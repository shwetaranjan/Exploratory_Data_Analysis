{
 "cells": [
  {
   "cell_type": "markdown",
   "metadata": {
    "id": "7LNCPWruUsPi"
   },
   "source": [
    "# us-accidents-analysis\n",
    "\n",
    "Use the \"Run\" button to execute the code."
   ]
  },
  {
   "cell_type": "markdown",
   "metadata": {
    "id": "W4BJLZsQVNM2"
   },
   "source": [
    "# US Accidents Exploratory Data Analysis\n",
    "TODO:\n",
    "1. Talk about EDA\n",
    "2. Talk about the dataset(source,what it contains, how it will be useful)\n",
    "3. Data source: Kaggle\n",
    "4. Information about accidents\n",
    "5. It can be useful to prevent accidents\n",
    "6. Mention that this doesn't contain data about New York."
   ]
  },
  {
   "cell_type": "code",
   "execution_count": null,
   "metadata": {
    "id": "k2l94L2XVigL"
   },
   "outputs": [],
   "source": [
    "pip install opendatasets --upgrade --quiet"
   ]
  },
  {
   "cell_type": "code",
   "execution_count": null,
   "metadata": {
    "colab": {
     "base_uri": "https://localhost:8080/"
    },
    "executionInfo": {
     "elapsed": 31102,
     "status": "ok",
     "timestamp": 1682317899863,
     "user": {
      "displayName": "shweta ranjan",
      "userId": "05994225660674107463"
     },
     "user_tz": -330
    },
    "id": "qxcXpMrhAsFy",
    "outputId": "941f6bda-4ac8-43a7-a01f-f0d0cd524c9a"
   },
   "outputs": [
    {
     "name": "stdout",
     "output_type": "stream",
     "text": [
      "Please provide your Kaggle credentials to download this dataset. Learn more: http://bit.ly/kaggle-creds\n",
      "Your Kaggle username: rshweta\n",
      "Your Kaggle Key: ··········\n",
      "Downloading us-accidents.zip to ./us-accidents\n"
     ]
    },
    {
     "name": "stderr",
     "output_type": "stream",
     "text": [
      "100%|██████████| 269M/269M [00:02<00:00, 98.4MB/s]\n"
     ]
    },
    {
     "name": "stdout",
     "output_type": "stream",
     "text": [
      "\n"
     ]
    }
   ],
   "source": [
    "import opendatasets as od\n",
    "\n",
    "download_url = 'https://www.kaggle.com/datasets/sobhanmoosavi/us-accidents'\n",
    "od.download(download_url)\n"
   ]
  },
  {
   "cell_type": "code",
   "execution_count": null,
   "metadata": {
    "id": "N9MK6xzhCdIa"
   },
   "outputs": [],
   "source": [
    "data_filename = './us-accidents/US_Accidents_Dec21_updated.csv'"
   ]
  },
  {
   "cell_type": "markdown",
   "metadata": {
    "id": "okIRHThDVwT3"
   },
   "source": [
    "## Data Preparation and Cleaning\n",
    "1. Load the files using pandas\n",
    "2. Look at some information about the file\n",
    "3. Fix any missing or incorrect values about the data and the columns"
   ]
  },
  {
   "cell_type": "code",
   "execution_count": null,
   "metadata": {
    "id": "vxSVh_-OVity"
   },
   "outputs": [],
   "source": [
    "import pandas as pd"
   ]
  },
  {
   "cell_type": "code",
   "execution_count": null,
   "metadata": {
    "id": "wDfyfGyrViwC"
   },
   "outputs": [],
   "source": [
    "df = pd.read_csv(data_filename)"
   ]
  },
  {
   "cell_type": "code",
   "execution_count": null,
   "metadata": {
    "colab": {
     "base_uri": "https://localhost:8080/",
     "height": 921
    },
    "executionInfo": {
     "elapsed": 1860,
     "status": "ok",
     "timestamp": 1682317943195,
     "user": {
      "displayName": "shweta ranjan",
      "userId": "05994225660674107463"
     },
     "user_tz": -330
    },
    "id": "Wdd9UVV6Vizf",
    "outputId": "3c0a1c90-7f15-4666-9e8b-41718f5bc136"
   },
   "outputs": [
    {
     "data": {
      "text/html": [
       "\n",
       "  <div id=\"df-6a2e1771-6ab2-42e1-900c-10a7f16b9b8f\">\n",
       "    <div class=\"colab-df-container\">\n",
       "      <div>\n",
       "<style scoped>\n",
       "    .dataframe tbody tr th:only-of-type {\n",
       "        vertical-align: middle;\n",
       "    }\n",
       "\n",
       "    .dataframe tbody tr th {\n",
       "        vertical-align: top;\n",
       "    }\n",
       "\n",
       "    .dataframe thead th {\n",
       "        text-align: right;\n",
       "    }\n",
       "</style>\n",
       "<table border=\"1\" class=\"dataframe\">\n",
       "  <thead>\n",
       "    <tr style=\"text-align: right;\">\n",
       "      <th></th>\n",
       "      <th>ID</th>\n",
       "      <th>Severity</th>\n",
       "      <th>Start_Time</th>\n",
       "      <th>End_Time</th>\n",
       "      <th>Start_Lat</th>\n",
       "      <th>Start_Lng</th>\n",
       "      <th>End_Lat</th>\n",
       "      <th>End_Lng</th>\n",
       "      <th>Distance(mi)</th>\n",
       "      <th>Description</th>\n",
       "      <th>...</th>\n",
       "      <th>Roundabout</th>\n",
       "      <th>Station</th>\n",
       "      <th>Stop</th>\n",
       "      <th>Traffic_Calming</th>\n",
       "      <th>Traffic_Signal</th>\n",
       "      <th>Turning_Loop</th>\n",
       "      <th>Sunrise_Sunset</th>\n",
       "      <th>Civil_Twilight</th>\n",
       "      <th>Nautical_Twilight</th>\n",
       "      <th>Astronomical_Twilight</th>\n",
       "    </tr>\n",
       "  </thead>\n",
       "  <tbody>\n",
       "    <tr>\n",
       "      <th>0</th>\n",
       "      <td>A-1</td>\n",
       "      <td>3</td>\n",
       "      <td>2016-02-08 00:37:08</td>\n",
       "      <td>2016-02-08 06:37:08</td>\n",
       "      <td>40.108910</td>\n",
       "      <td>-83.092860</td>\n",
       "      <td>40.112060</td>\n",
       "      <td>-83.031870</td>\n",
       "      <td>3.230</td>\n",
       "      <td>Between Sawmill Rd/Exit 20 and OH-315/Olentang...</td>\n",
       "      <td>...</td>\n",
       "      <td>False</td>\n",
       "      <td>False</td>\n",
       "      <td>False</td>\n",
       "      <td>False</td>\n",
       "      <td>False</td>\n",
       "      <td>False</td>\n",
       "      <td>Night</td>\n",
       "      <td>Night</td>\n",
       "      <td>Night</td>\n",
       "      <td>Night</td>\n",
       "    </tr>\n",
       "    <tr>\n",
       "      <th>1</th>\n",
       "      <td>A-2</td>\n",
       "      <td>2</td>\n",
       "      <td>2016-02-08 05:56:20</td>\n",
       "      <td>2016-02-08 11:56:20</td>\n",
       "      <td>39.865420</td>\n",
       "      <td>-84.062800</td>\n",
       "      <td>39.865010</td>\n",
       "      <td>-84.048730</td>\n",
       "      <td>0.747</td>\n",
       "      <td>At OH-4/OH-235/Exit 41 - Accident.</td>\n",
       "      <td>...</td>\n",
       "      <td>False</td>\n",
       "      <td>False</td>\n",
       "      <td>False</td>\n",
       "      <td>False</td>\n",
       "      <td>False</td>\n",
       "      <td>False</td>\n",
       "      <td>Night</td>\n",
       "      <td>Night</td>\n",
       "      <td>Night</td>\n",
       "      <td>Night</td>\n",
       "    </tr>\n",
       "    <tr>\n",
       "      <th>2</th>\n",
       "      <td>A-3</td>\n",
       "      <td>2</td>\n",
       "      <td>2016-02-08 06:15:39</td>\n",
       "      <td>2016-02-08 12:15:39</td>\n",
       "      <td>39.102660</td>\n",
       "      <td>-84.524680</td>\n",
       "      <td>39.102090</td>\n",
       "      <td>-84.523960</td>\n",
       "      <td>0.055</td>\n",
       "      <td>At I-71/US-50/Exit 1 - Accident.</td>\n",
       "      <td>...</td>\n",
       "      <td>False</td>\n",
       "      <td>False</td>\n",
       "      <td>False</td>\n",
       "      <td>False</td>\n",
       "      <td>False</td>\n",
       "      <td>False</td>\n",
       "      <td>Night</td>\n",
       "      <td>Night</td>\n",
       "      <td>Night</td>\n",
       "      <td>Day</td>\n",
       "    </tr>\n",
       "    <tr>\n",
       "      <th>3</th>\n",
       "      <td>A-4</td>\n",
       "      <td>2</td>\n",
       "      <td>2016-02-08 06:51:45</td>\n",
       "      <td>2016-02-08 12:51:45</td>\n",
       "      <td>41.062130</td>\n",
       "      <td>-81.537840</td>\n",
       "      <td>41.062170</td>\n",
       "      <td>-81.535470</td>\n",
       "      <td>0.123</td>\n",
       "      <td>At Dart Ave/Exit 21 - Accident.</td>\n",
       "      <td>...</td>\n",
       "      <td>False</td>\n",
       "      <td>False</td>\n",
       "      <td>False</td>\n",
       "      <td>False</td>\n",
       "      <td>False</td>\n",
       "      <td>False</td>\n",
       "      <td>Night</td>\n",
       "      <td>Night</td>\n",
       "      <td>Day</td>\n",
       "      <td>Day</td>\n",
       "    </tr>\n",
       "    <tr>\n",
       "      <th>4</th>\n",
       "      <td>A-5</td>\n",
       "      <td>3</td>\n",
       "      <td>2016-02-08 07:53:43</td>\n",
       "      <td>2016-02-08 13:53:43</td>\n",
       "      <td>39.172393</td>\n",
       "      <td>-84.492792</td>\n",
       "      <td>39.170476</td>\n",
       "      <td>-84.501798</td>\n",
       "      <td>0.500</td>\n",
       "      <td>At Mitchell Ave/Exit 6 - Accident.</td>\n",
       "      <td>...</td>\n",
       "      <td>False</td>\n",
       "      <td>False</td>\n",
       "      <td>False</td>\n",
       "      <td>False</td>\n",
       "      <td>False</td>\n",
       "      <td>False</td>\n",
       "      <td>Day</td>\n",
       "      <td>Day</td>\n",
       "      <td>Day</td>\n",
       "      <td>Day</td>\n",
       "    </tr>\n",
       "    <tr>\n",
       "      <th>...</th>\n",
       "      <td>...</td>\n",
       "      <td>...</td>\n",
       "      <td>...</td>\n",
       "      <td>...</td>\n",
       "      <td>...</td>\n",
       "      <td>...</td>\n",
       "      <td>...</td>\n",
       "      <td>...</td>\n",
       "      <td>...</td>\n",
       "      <td>...</td>\n",
       "      <td>...</td>\n",
       "      <td>...</td>\n",
       "      <td>...</td>\n",
       "      <td>...</td>\n",
       "      <td>...</td>\n",
       "      <td>...</td>\n",
       "      <td>...</td>\n",
       "      <td>...</td>\n",
       "      <td>...</td>\n",
       "      <td>...</td>\n",
       "      <td>...</td>\n",
       "    </tr>\n",
       "    <tr>\n",
       "      <th>2845337</th>\n",
       "      <td>A-2845338</td>\n",
       "      <td>2</td>\n",
       "      <td>2019-08-23 18:03:25</td>\n",
       "      <td>2019-08-23 18:32:01</td>\n",
       "      <td>34.002480</td>\n",
       "      <td>-117.379360</td>\n",
       "      <td>33.998880</td>\n",
       "      <td>-117.370940</td>\n",
       "      <td>0.543</td>\n",
       "      <td>At Market St - Accident.</td>\n",
       "      <td>...</td>\n",
       "      <td>False</td>\n",
       "      <td>False</td>\n",
       "      <td>False</td>\n",
       "      <td>False</td>\n",
       "      <td>False</td>\n",
       "      <td>False</td>\n",
       "      <td>Day</td>\n",
       "      <td>Day</td>\n",
       "      <td>Day</td>\n",
       "      <td>Day</td>\n",
       "    </tr>\n",
       "    <tr>\n",
       "      <th>2845338</th>\n",
       "      <td>A-2845339</td>\n",
       "      <td>2</td>\n",
       "      <td>2019-08-23 19:11:30</td>\n",
       "      <td>2019-08-23 19:38:23</td>\n",
       "      <td>32.766960</td>\n",
       "      <td>-117.148060</td>\n",
       "      <td>32.765550</td>\n",
       "      <td>-117.153630</td>\n",
       "      <td>0.338</td>\n",
       "      <td>At Camino Del Rio/Mission Center Rd - Accident.</td>\n",
       "      <td>...</td>\n",
       "      <td>False</td>\n",
       "      <td>False</td>\n",
       "      <td>False</td>\n",
       "      <td>False</td>\n",
       "      <td>False</td>\n",
       "      <td>False</td>\n",
       "      <td>Day</td>\n",
       "      <td>Day</td>\n",
       "      <td>Day</td>\n",
       "      <td>Day</td>\n",
       "    </tr>\n",
       "    <tr>\n",
       "      <th>2845339</th>\n",
       "      <td>A-2845340</td>\n",
       "      <td>2</td>\n",
       "      <td>2019-08-23 19:00:21</td>\n",
       "      <td>2019-08-23 19:28:49</td>\n",
       "      <td>33.775450</td>\n",
       "      <td>-117.847790</td>\n",
       "      <td>33.777400</td>\n",
       "      <td>-117.857270</td>\n",
       "      <td>0.561</td>\n",
       "      <td>At Glassell St/Grand Ave - Accident. in the ri...</td>\n",
       "      <td>...</td>\n",
       "      <td>False</td>\n",
       "      <td>False</td>\n",
       "      <td>False</td>\n",
       "      <td>False</td>\n",
       "      <td>False</td>\n",
       "      <td>False</td>\n",
       "      <td>Day</td>\n",
       "      <td>Day</td>\n",
       "      <td>Day</td>\n",
       "      <td>Day</td>\n",
       "    </tr>\n",
       "    <tr>\n",
       "      <th>2845340</th>\n",
       "      <td>A-2845341</td>\n",
       "      <td>2</td>\n",
       "      <td>2019-08-23 19:00:21</td>\n",
       "      <td>2019-08-23 19:29:42</td>\n",
       "      <td>33.992460</td>\n",
       "      <td>-118.403020</td>\n",
       "      <td>33.983110</td>\n",
       "      <td>-118.395650</td>\n",
       "      <td>0.772</td>\n",
       "      <td>At CA-90/Marina Fwy/Jefferson Blvd - Accident.</td>\n",
       "      <td>...</td>\n",
       "      <td>False</td>\n",
       "      <td>False</td>\n",
       "      <td>False</td>\n",
       "      <td>False</td>\n",
       "      <td>False</td>\n",
       "      <td>False</td>\n",
       "      <td>Day</td>\n",
       "      <td>Day</td>\n",
       "      <td>Day</td>\n",
       "      <td>Day</td>\n",
       "    </tr>\n",
       "    <tr>\n",
       "      <th>2845341</th>\n",
       "      <td>A-2845342</td>\n",
       "      <td>2</td>\n",
       "      <td>2019-08-23 18:52:06</td>\n",
       "      <td>2019-08-23 19:21:31</td>\n",
       "      <td>34.133930</td>\n",
       "      <td>-117.230920</td>\n",
       "      <td>34.137360</td>\n",
       "      <td>-117.239340</td>\n",
       "      <td>0.537</td>\n",
       "      <td>At Highland Ave/Arden Ave - Accident.</td>\n",
       "      <td>...</td>\n",
       "      <td>False</td>\n",
       "      <td>False</td>\n",
       "      <td>False</td>\n",
       "      <td>False</td>\n",
       "      <td>False</td>\n",
       "      <td>False</td>\n",
       "      <td>Day</td>\n",
       "      <td>Day</td>\n",
       "      <td>Day</td>\n",
       "      <td>Day</td>\n",
       "    </tr>\n",
       "  </tbody>\n",
       "</table>\n",
       "<p>2845342 rows × 47 columns</p>\n",
       "</div>\n",
       "      <button class=\"colab-df-convert\" onclick=\"convertToInteractive('df-6a2e1771-6ab2-42e1-900c-10a7f16b9b8f')\"\n",
       "              title=\"Convert this dataframe to an interactive table.\"\n",
       "              style=\"display:none;\">\n",
       "        \n",
       "  <svg xmlns=\"http://www.w3.org/2000/svg\" height=\"24px\"viewBox=\"0 0 24 24\"\n",
       "       width=\"24px\">\n",
       "    <path d=\"M0 0h24v24H0V0z\" fill=\"none\"/>\n",
       "    <path d=\"M18.56 5.44l.94 2.06.94-2.06 2.06-.94-2.06-.94-.94-2.06-.94 2.06-2.06.94zm-11 1L8.5 8.5l.94-2.06 2.06-.94-2.06-.94L8.5 2.5l-.94 2.06-2.06.94zm10 10l.94 2.06.94-2.06 2.06-.94-2.06-.94-.94-2.06-.94 2.06-2.06.94z\"/><path d=\"M17.41 7.96l-1.37-1.37c-.4-.4-.92-.59-1.43-.59-.52 0-1.04.2-1.43.59L10.3 9.45l-7.72 7.72c-.78.78-.78 2.05 0 2.83L4 21.41c.39.39.9.59 1.41.59.51 0 1.02-.2 1.41-.59l7.78-7.78 2.81-2.81c.8-.78.8-2.07 0-2.86zM5.41 20L4 18.59l7.72-7.72 1.47 1.35L5.41 20z\"/>\n",
       "  </svg>\n",
       "      </button>\n",
       "      \n",
       "  <style>\n",
       "    .colab-df-container {\n",
       "      display:flex;\n",
       "      flex-wrap:wrap;\n",
       "      gap: 12px;\n",
       "    }\n",
       "\n",
       "    .colab-df-convert {\n",
       "      background-color: #E8F0FE;\n",
       "      border: none;\n",
       "      border-radius: 50%;\n",
       "      cursor: pointer;\n",
       "      display: none;\n",
       "      fill: #1967D2;\n",
       "      height: 32px;\n",
       "      padding: 0 0 0 0;\n",
       "      width: 32px;\n",
       "    }\n",
       "\n",
       "    .colab-df-convert:hover {\n",
       "      background-color: #E2EBFA;\n",
       "      box-shadow: 0px 1px 2px rgba(60, 64, 67, 0.3), 0px 1px 3px 1px rgba(60, 64, 67, 0.15);\n",
       "      fill: #174EA6;\n",
       "    }\n",
       "\n",
       "    [theme=dark] .colab-df-convert {\n",
       "      background-color: #3B4455;\n",
       "      fill: #D2E3FC;\n",
       "    }\n",
       "\n",
       "    [theme=dark] .colab-df-convert:hover {\n",
       "      background-color: #434B5C;\n",
       "      box-shadow: 0px 1px 3px 1px rgba(0, 0, 0, 0.15);\n",
       "      filter: drop-shadow(0px 1px 2px rgba(0, 0, 0, 0.3));\n",
       "      fill: #FFFFFF;\n",
       "    }\n",
       "  </style>\n",
       "\n",
       "      <script>\n",
       "        const buttonEl =\n",
       "          document.querySelector('#df-6a2e1771-6ab2-42e1-900c-10a7f16b9b8f button.colab-df-convert');\n",
       "        buttonEl.style.display =\n",
       "          google.colab.kernel.accessAllowed ? 'block' : 'none';\n",
       "\n",
       "        async function convertToInteractive(key) {\n",
       "          const element = document.querySelector('#df-6a2e1771-6ab2-42e1-900c-10a7f16b9b8f');\n",
       "          const dataTable =\n",
       "            await google.colab.kernel.invokeFunction('convertToInteractive',\n",
       "                                                     [key], {});\n",
       "          if (!dataTable) return;\n",
       "\n",
       "          const docLinkHtml = 'Like what you see? Visit the ' +\n",
       "            '<a target=\"_blank\" href=https://colab.research.google.com/notebooks/data_table.ipynb>data table notebook</a>'\n",
       "            + ' to learn more about interactive tables.';\n",
       "          element.innerHTML = '';\n",
       "          dataTable['output_type'] = 'display_data';\n",
       "          await google.colab.output.renderOutput(dataTable, element);\n",
       "          const docLink = document.createElement('div');\n",
       "          docLink.innerHTML = docLinkHtml;\n",
       "          element.appendChild(docLink);\n",
       "        }\n",
       "      </script>\n",
       "    </div>\n",
       "  </div>\n",
       "  "
      ],
      "text/plain": [
       "                ID  Severity           Start_Time             End_Time  \\\n",
       "0              A-1         3  2016-02-08 00:37:08  2016-02-08 06:37:08   \n",
       "1              A-2         2  2016-02-08 05:56:20  2016-02-08 11:56:20   \n",
       "2              A-3         2  2016-02-08 06:15:39  2016-02-08 12:15:39   \n",
       "3              A-4         2  2016-02-08 06:51:45  2016-02-08 12:51:45   \n",
       "4              A-5         3  2016-02-08 07:53:43  2016-02-08 13:53:43   \n",
       "...            ...       ...                  ...                  ...   \n",
       "2845337  A-2845338         2  2019-08-23 18:03:25  2019-08-23 18:32:01   \n",
       "2845338  A-2845339         2  2019-08-23 19:11:30  2019-08-23 19:38:23   \n",
       "2845339  A-2845340         2  2019-08-23 19:00:21  2019-08-23 19:28:49   \n",
       "2845340  A-2845341         2  2019-08-23 19:00:21  2019-08-23 19:29:42   \n",
       "2845341  A-2845342         2  2019-08-23 18:52:06  2019-08-23 19:21:31   \n",
       "\n",
       "         Start_Lat   Start_Lng    End_Lat     End_Lng  Distance(mi)  \\\n",
       "0        40.108910  -83.092860  40.112060  -83.031870         3.230   \n",
       "1        39.865420  -84.062800  39.865010  -84.048730         0.747   \n",
       "2        39.102660  -84.524680  39.102090  -84.523960         0.055   \n",
       "3        41.062130  -81.537840  41.062170  -81.535470         0.123   \n",
       "4        39.172393  -84.492792  39.170476  -84.501798         0.500   \n",
       "...            ...         ...        ...         ...           ...   \n",
       "2845337  34.002480 -117.379360  33.998880 -117.370940         0.543   \n",
       "2845338  32.766960 -117.148060  32.765550 -117.153630         0.338   \n",
       "2845339  33.775450 -117.847790  33.777400 -117.857270         0.561   \n",
       "2845340  33.992460 -118.403020  33.983110 -118.395650         0.772   \n",
       "2845341  34.133930 -117.230920  34.137360 -117.239340         0.537   \n",
       "\n",
       "                                               Description  ...  Roundabout  \\\n",
       "0        Between Sawmill Rd/Exit 20 and OH-315/Olentang...  ...       False   \n",
       "1                       At OH-4/OH-235/Exit 41 - Accident.  ...       False   \n",
       "2                         At I-71/US-50/Exit 1 - Accident.  ...       False   \n",
       "3                          At Dart Ave/Exit 21 - Accident.  ...       False   \n",
       "4                       At Mitchell Ave/Exit 6 - Accident.  ...       False   \n",
       "...                                                    ...  ...         ...   \n",
       "2845337                           At Market St - Accident.  ...       False   \n",
       "2845338    At Camino Del Rio/Mission Center Rd - Accident.  ...       False   \n",
       "2845339  At Glassell St/Grand Ave - Accident. in the ri...  ...       False   \n",
       "2845340     At CA-90/Marina Fwy/Jefferson Blvd - Accident.  ...       False   \n",
       "2845341              At Highland Ave/Arden Ave - Accident.  ...       False   \n",
       "\n",
       "        Station   Stop Traffic_Calming Traffic_Signal Turning_Loop  \\\n",
       "0         False  False           False          False        False   \n",
       "1         False  False           False          False        False   \n",
       "2         False  False           False          False        False   \n",
       "3         False  False           False          False        False   \n",
       "4         False  False           False          False        False   \n",
       "...         ...    ...             ...            ...          ...   \n",
       "2845337   False  False           False          False        False   \n",
       "2845338   False  False           False          False        False   \n",
       "2845339   False  False           False          False        False   \n",
       "2845340   False  False           False          False        False   \n",
       "2845341   False  False           False          False        False   \n",
       "\n",
       "        Sunrise_Sunset Civil_Twilight Nautical_Twilight Astronomical_Twilight  \n",
       "0                Night          Night             Night                 Night  \n",
       "1                Night          Night             Night                 Night  \n",
       "2                Night          Night             Night                   Day  \n",
       "3                Night          Night               Day                   Day  \n",
       "4                  Day            Day               Day                   Day  \n",
       "...                ...            ...               ...                   ...  \n",
       "2845337            Day            Day               Day                   Day  \n",
       "2845338            Day            Day               Day                   Day  \n",
       "2845339            Day            Day               Day                   Day  \n",
       "2845340            Day            Day               Day                   Day  \n",
       "2845341            Day            Day               Day                   Day  \n",
       "\n",
       "[2845342 rows x 47 columns]"
      ]
     },
     "execution_count": 9,
     "metadata": {},
     "output_type": "execute_result"
    }
   ],
   "source": [
    "df"
   ]
  },
  {
   "cell_type": "code",
   "execution_count": null,
   "metadata": {
    "colab": {
     "base_uri": "https://localhost:8080/"
    },
    "executionInfo": {
     "elapsed": 7,
     "status": "ok",
     "timestamp": 1682317943196,
     "user": {
      "displayName": "shweta ranjan",
      "userId": "05994225660674107463"
     },
     "user_tz": -330
    },
    "id": "NOESjftjWQdP",
    "outputId": "f4f31b60-a97d-4d92-e26c-d2a7060b8f51"
   },
   "outputs": [
    {
     "name": "stdout",
     "output_type": "stream",
     "text": [
      "<class 'pandas.core.frame.DataFrame'>\n",
      "RangeIndex: 2845342 entries, 0 to 2845341\n",
      "Data columns (total 47 columns):\n",
      " #   Column                 Dtype  \n",
      "---  ------                 -----  \n",
      " 0   ID                     object \n",
      " 1   Severity               int64  \n",
      " 2   Start_Time             object \n",
      " 3   End_Time               object \n",
      " 4   Start_Lat              float64\n",
      " 5   Start_Lng              float64\n",
      " 6   End_Lat                float64\n",
      " 7   End_Lng                float64\n",
      " 8   Distance(mi)           float64\n",
      " 9   Description            object \n",
      " 10  Number                 float64\n",
      " 11  Street                 object \n",
      " 12  Side                   object \n",
      " 13  City                   object \n",
      " 14  County                 object \n",
      " 15  State                  object \n",
      " 16  Zipcode                object \n",
      " 17  Country                object \n",
      " 18  Timezone               object \n",
      " 19  Airport_Code           object \n",
      " 20  Weather_Timestamp      object \n",
      " 21  Temperature(F)         float64\n",
      " 22  Wind_Chill(F)          float64\n",
      " 23  Humidity(%)            float64\n",
      " 24  Pressure(in)           float64\n",
      " 25  Visibility(mi)         float64\n",
      " 26  Wind_Direction         object \n",
      " 27  Wind_Speed(mph)        float64\n",
      " 28  Precipitation(in)      float64\n",
      " 29  Weather_Condition      object \n",
      " 30  Amenity                bool   \n",
      " 31  Bump                   bool   \n",
      " 32  Crossing               bool   \n",
      " 33  Give_Way               bool   \n",
      " 34  Junction               bool   \n",
      " 35  No_Exit                bool   \n",
      " 36  Railway                bool   \n",
      " 37  Roundabout             bool   \n",
      " 38  Station                bool   \n",
      " 39  Stop                   bool   \n",
      " 40  Traffic_Calming        bool   \n",
      " 41  Traffic_Signal         bool   \n",
      " 42  Turning_Loop           bool   \n",
      " 43  Sunrise_Sunset         object \n",
      " 44  Civil_Twilight         object \n",
      " 45  Nautical_Twilight      object \n",
      " 46  Astronomical_Twilight  object \n",
      "dtypes: bool(13), float64(13), int64(1), object(20)\n",
      "memory usage: 773.4+ MB\n"
     ]
    }
   ],
   "source": [
    "df.info()\n"
   ]
  },
  {
   "cell_type": "code",
   "execution_count": null,
   "metadata": {
    "colab": {
     "base_uri": "https://localhost:8080/",
     "height": 364
    },
    "executionInfo": {
     "elapsed": 2673,
     "status": "ok",
     "timestamp": 1682317945865,
     "user": {
      "displayName": "shweta ranjan",
      "userId": "05994225660674107463"
     },
     "user_tz": -330
    },
    "id": "Vbe5XkkWWQfn",
    "outputId": "80cd21d8-715b-44ee-e564-3de60255ea1d"
   },
   "outputs": [
    {
     "data": {
      "text/html": [
       "\n",
       "  <div id=\"df-b098b0c2-64e7-4e99-a649-9da18f6925eb\">\n",
       "    <div class=\"colab-df-container\">\n",
       "      <div>\n",
       "<style scoped>\n",
       "    .dataframe tbody tr th:only-of-type {\n",
       "        vertical-align: middle;\n",
       "    }\n",
       "\n",
       "    .dataframe tbody tr th {\n",
       "        vertical-align: top;\n",
       "    }\n",
       "\n",
       "    .dataframe thead th {\n",
       "        text-align: right;\n",
       "    }\n",
       "</style>\n",
       "<table border=\"1\" class=\"dataframe\">\n",
       "  <thead>\n",
       "    <tr style=\"text-align: right;\">\n",
       "      <th></th>\n",
       "      <th>Severity</th>\n",
       "      <th>Start_Lat</th>\n",
       "      <th>Start_Lng</th>\n",
       "      <th>End_Lat</th>\n",
       "      <th>End_Lng</th>\n",
       "      <th>Distance(mi)</th>\n",
       "      <th>Number</th>\n",
       "      <th>Temperature(F)</th>\n",
       "      <th>Wind_Chill(F)</th>\n",
       "      <th>Humidity(%)</th>\n",
       "      <th>Pressure(in)</th>\n",
       "      <th>Visibility(mi)</th>\n",
       "      <th>Wind_Speed(mph)</th>\n",
       "      <th>Precipitation(in)</th>\n",
       "    </tr>\n",
       "  </thead>\n",
       "  <tbody>\n",
       "    <tr>\n",
       "      <th>count</th>\n",
       "      <td>2.845342e+06</td>\n",
       "      <td>2.845342e+06</td>\n",
       "      <td>2.845342e+06</td>\n",
       "      <td>2.845342e+06</td>\n",
       "      <td>2.845342e+06</td>\n",
       "      <td>2.845342e+06</td>\n",
       "      <td>1.101431e+06</td>\n",
       "      <td>2.776068e+06</td>\n",
       "      <td>2.375699e+06</td>\n",
       "      <td>2.772250e+06</td>\n",
       "      <td>2.786142e+06</td>\n",
       "      <td>2.774796e+06</td>\n",
       "      <td>2.687398e+06</td>\n",
       "      <td>2.295884e+06</td>\n",
       "    </tr>\n",
       "    <tr>\n",
       "      <th>mean</th>\n",
       "      <td>2.137572e+00</td>\n",
       "      <td>3.624520e+01</td>\n",
       "      <td>-9.711463e+01</td>\n",
       "      <td>3.624532e+01</td>\n",
       "      <td>-9.711439e+01</td>\n",
       "      <td>7.026779e-01</td>\n",
       "      <td>8.089408e+03</td>\n",
       "      <td>6.179356e+01</td>\n",
       "      <td>5.965823e+01</td>\n",
       "      <td>6.436545e+01</td>\n",
       "      <td>2.947234e+01</td>\n",
       "      <td>9.099391e+00</td>\n",
       "      <td>7.395044e+00</td>\n",
       "      <td>7.016940e-03</td>\n",
       "    </tr>\n",
       "    <tr>\n",
       "      <th>std</th>\n",
       "      <td>4.787216e-01</td>\n",
       "      <td>5.363797e+00</td>\n",
       "      <td>1.831782e+01</td>\n",
       "      <td>5.363873e+00</td>\n",
       "      <td>1.831763e+01</td>\n",
       "      <td>1.560361e+00</td>\n",
       "      <td>1.836009e+04</td>\n",
       "      <td>1.862263e+01</td>\n",
       "      <td>2.116097e+01</td>\n",
       "      <td>2.287457e+01</td>\n",
       "      <td>1.045286e+00</td>\n",
       "      <td>2.717546e+00</td>\n",
       "      <td>5.527454e+00</td>\n",
       "      <td>9.348831e-02</td>\n",
       "    </tr>\n",
       "    <tr>\n",
       "      <th>min</th>\n",
       "      <td>1.000000e+00</td>\n",
       "      <td>2.456603e+01</td>\n",
       "      <td>-1.245481e+02</td>\n",
       "      <td>2.456601e+01</td>\n",
       "      <td>-1.245457e+02</td>\n",
       "      <td>0.000000e+00</td>\n",
       "      <td>0.000000e+00</td>\n",
       "      <td>-8.900000e+01</td>\n",
       "      <td>-8.900000e+01</td>\n",
       "      <td>1.000000e+00</td>\n",
       "      <td>0.000000e+00</td>\n",
       "      <td>0.000000e+00</td>\n",
       "      <td>0.000000e+00</td>\n",
       "      <td>0.000000e+00</td>\n",
       "    </tr>\n",
       "    <tr>\n",
       "      <th>25%</th>\n",
       "      <td>2.000000e+00</td>\n",
       "      <td>3.344517e+01</td>\n",
       "      <td>-1.180331e+02</td>\n",
       "      <td>3.344628e+01</td>\n",
       "      <td>-1.180333e+02</td>\n",
       "      <td>5.200000e-02</td>\n",
       "      <td>1.270000e+03</td>\n",
       "      <td>5.000000e+01</td>\n",
       "      <td>4.600000e+01</td>\n",
       "      <td>4.800000e+01</td>\n",
       "      <td>2.931000e+01</td>\n",
       "      <td>1.000000e+01</td>\n",
       "      <td>3.500000e+00</td>\n",
       "      <td>0.000000e+00</td>\n",
       "    </tr>\n",
       "    <tr>\n",
       "      <th>50%</th>\n",
       "      <td>2.000000e+00</td>\n",
       "      <td>3.609861e+01</td>\n",
       "      <td>-9.241808e+01</td>\n",
       "      <td>3.609799e+01</td>\n",
       "      <td>-9.241772e+01</td>\n",
       "      <td>2.440000e-01</td>\n",
       "      <td>4.007000e+03</td>\n",
       "      <td>6.400000e+01</td>\n",
       "      <td>6.300000e+01</td>\n",
       "      <td>6.700000e+01</td>\n",
       "      <td>2.982000e+01</td>\n",
       "      <td>1.000000e+01</td>\n",
       "      <td>7.000000e+00</td>\n",
       "      <td>0.000000e+00</td>\n",
       "    </tr>\n",
       "    <tr>\n",
       "      <th>75%</th>\n",
       "      <td>2.000000e+00</td>\n",
       "      <td>4.016024e+01</td>\n",
       "      <td>-8.037243e+01</td>\n",
       "      <td>4.016105e+01</td>\n",
       "      <td>-8.037338e+01</td>\n",
       "      <td>7.640000e-01</td>\n",
       "      <td>9.567000e+03</td>\n",
       "      <td>7.600000e+01</td>\n",
       "      <td>7.600000e+01</td>\n",
       "      <td>8.300000e+01</td>\n",
       "      <td>3.001000e+01</td>\n",
       "      <td>1.000000e+01</td>\n",
       "      <td>1.000000e+01</td>\n",
       "      <td>0.000000e+00</td>\n",
       "    </tr>\n",
       "    <tr>\n",
       "      <th>max</th>\n",
       "      <td>4.000000e+00</td>\n",
       "      <td>4.900058e+01</td>\n",
       "      <td>-6.711317e+01</td>\n",
       "      <td>4.907500e+01</td>\n",
       "      <td>-6.710924e+01</td>\n",
       "      <td>1.551860e+02</td>\n",
       "      <td>9.999997e+06</td>\n",
       "      <td>1.960000e+02</td>\n",
       "      <td>1.960000e+02</td>\n",
       "      <td>1.000000e+02</td>\n",
       "      <td>5.890000e+01</td>\n",
       "      <td>1.400000e+02</td>\n",
       "      <td>1.087000e+03</td>\n",
       "      <td>2.400000e+01</td>\n",
       "    </tr>\n",
       "  </tbody>\n",
       "</table>\n",
       "</div>\n",
       "      <button class=\"colab-df-convert\" onclick=\"convertToInteractive('df-b098b0c2-64e7-4e99-a649-9da18f6925eb')\"\n",
       "              title=\"Convert this dataframe to an interactive table.\"\n",
       "              style=\"display:none;\">\n",
       "        \n",
       "  <svg xmlns=\"http://www.w3.org/2000/svg\" height=\"24px\"viewBox=\"0 0 24 24\"\n",
       "       width=\"24px\">\n",
       "    <path d=\"M0 0h24v24H0V0z\" fill=\"none\"/>\n",
       "    <path d=\"M18.56 5.44l.94 2.06.94-2.06 2.06-.94-2.06-.94-.94-2.06-.94 2.06-2.06.94zm-11 1L8.5 8.5l.94-2.06 2.06-.94-2.06-.94L8.5 2.5l-.94 2.06-2.06.94zm10 10l.94 2.06.94-2.06 2.06-.94-2.06-.94-.94-2.06-.94 2.06-2.06.94z\"/><path d=\"M17.41 7.96l-1.37-1.37c-.4-.4-.92-.59-1.43-.59-.52 0-1.04.2-1.43.59L10.3 9.45l-7.72 7.72c-.78.78-.78 2.05 0 2.83L4 21.41c.39.39.9.59 1.41.59.51 0 1.02-.2 1.41-.59l7.78-7.78 2.81-2.81c.8-.78.8-2.07 0-2.86zM5.41 20L4 18.59l7.72-7.72 1.47 1.35L5.41 20z\"/>\n",
       "  </svg>\n",
       "      </button>\n",
       "      \n",
       "  <style>\n",
       "    .colab-df-container {\n",
       "      display:flex;\n",
       "      flex-wrap:wrap;\n",
       "      gap: 12px;\n",
       "    }\n",
       "\n",
       "    .colab-df-convert {\n",
       "      background-color: #E8F0FE;\n",
       "      border: none;\n",
       "      border-radius: 50%;\n",
       "      cursor: pointer;\n",
       "      display: none;\n",
       "      fill: #1967D2;\n",
       "      height: 32px;\n",
       "      padding: 0 0 0 0;\n",
       "      width: 32px;\n",
       "    }\n",
       "\n",
       "    .colab-df-convert:hover {\n",
       "      background-color: #E2EBFA;\n",
       "      box-shadow: 0px 1px 2px rgba(60, 64, 67, 0.3), 0px 1px 3px 1px rgba(60, 64, 67, 0.15);\n",
       "      fill: #174EA6;\n",
       "    }\n",
       "\n",
       "    [theme=dark] .colab-df-convert {\n",
       "      background-color: #3B4455;\n",
       "      fill: #D2E3FC;\n",
       "    }\n",
       "\n",
       "    [theme=dark] .colab-df-convert:hover {\n",
       "      background-color: #434B5C;\n",
       "      box-shadow: 0px 1px 3px 1px rgba(0, 0, 0, 0.15);\n",
       "      filter: drop-shadow(0px 1px 2px rgba(0, 0, 0, 0.3));\n",
       "      fill: #FFFFFF;\n",
       "    }\n",
       "  </style>\n",
       "\n",
       "      <script>\n",
       "        const buttonEl =\n",
       "          document.querySelector('#df-b098b0c2-64e7-4e99-a649-9da18f6925eb button.colab-df-convert');\n",
       "        buttonEl.style.display =\n",
       "          google.colab.kernel.accessAllowed ? 'block' : 'none';\n",
       "\n",
       "        async function convertToInteractive(key) {\n",
       "          const element = document.querySelector('#df-b098b0c2-64e7-4e99-a649-9da18f6925eb');\n",
       "          const dataTable =\n",
       "            await google.colab.kernel.invokeFunction('convertToInteractive',\n",
       "                                                     [key], {});\n",
       "          if (!dataTable) return;\n",
       "\n",
       "          const docLinkHtml = 'Like what you see? Visit the ' +\n",
       "            '<a target=\"_blank\" href=https://colab.research.google.com/notebooks/data_table.ipynb>data table notebook</a>'\n",
       "            + ' to learn more about interactive tables.';\n",
       "          element.innerHTML = '';\n",
       "          dataTable['output_type'] = 'display_data';\n",
       "          await google.colab.output.renderOutput(dataTable, element);\n",
       "          const docLink = document.createElement('div');\n",
       "          docLink.innerHTML = docLinkHtml;\n",
       "          element.appendChild(docLink);\n",
       "        }\n",
       "      </script>\n",
       "    </div>\n",
       "  </div>\n",
       "  "
      ],
      "text/plain": [
       "           Severity     Start_Lat     Start_Lng       End_Lat       End_Lng  \\\n",
       "count  2.845342e+06  2.845342e+06  2.845342e+06  2.845342e+06  2.845342e+06   \n",
       "mean   2.137572e+00  3.624520e+01 -9.711463e+01  3.624532e+01 -9.711439e+01   \n",
       "std    4.787216e-01  5.363797e+00  1.831782e+01  5.363873e+00  1.831763e+01   \n",
       "min    1.000000e+00  2.456603e+01 -1.245481e+02  2.456601e+01 -1.245457e+02   \n",
       "25%    2.000000e+00  3.344517e+01 -1.180331e+02  3.344628e+01 -1.180333e+02   \n",
       "50%    2.000000e+00  3.609861e+01 -9.241808e+01  3.609799e+01 -9.241772e+01   \n",
       "75%    2.000000e+00  4.016024e+01 -8.037243e+01  4.016105e+01 -8.037338e+01   \n",
       "max    4.000000e+00  4.900058e+01 -6.711317e+01  4.907500e+01 -6.710924e+01   \n",
       "\n",
       "       Distance(mi)        Number  Temperature(F)  Wind_Chill(F)  \\\n",
       "count  2.845342e+06  1.101431e+06    2.776068e+06   2.375699e+06   \n",
       "mean   7.026779e-01  8.089408e+03    6.179356e+01   5.965823e+01   \n",
       "std    1.560361e+00  1.836009e+04    1.862263e+01   2.116097e+01   \n",
       "min    0.000000e+00  0.000000e+00   -8.900000e+01  -8.900000e+01   \n",
       "25%    5.200000e-02  1.270000e+03    5.000000e+01   4.600000e+01   \n",
       "50%    2.440000e-01  4.007000e+03    6.400000e+01   6.300000e+01   \n",
       "75%    7.640000e-01  9.567000e+03    7.600000e+01   7.600000e+01   \n",
       "max    1.551860e+02  9.999997e+06    1.960000e+02   1.960000e+02   \n",
       "\n",
       "        Humidity(%)  Pressure(in)  Visibility(mi)  Wind_Speed(mph)  \\\n",
       "count  2.772250e+06  2.786142e+06    2.774796e+06     2.687398e+06   \n",
       "mean   6.436545e+01  2.947234e+01    9.099391e+00     7.395044e+00   \n",
       "std    2.287457e+01  1.045286e+00    2.717546e+00     5.527454e+00   \n",
       "min    1.000000e+00  0.000000e+00    0.000000e+00     0.000000e+00   \n",
       "25%    4.800000e+01  2.931000e+01    1.000000e+01     3.500000e+00   \n",
       "50%    6.700000e+01  2.982000e+01    1.000000e+01     7.000000e+00   \n",
       "75%    8.300000e+01  3.001000e+01    1.000000e+01     1.000000e+01   \n",
       "max    1.000000e+02  5.890000e+01    1.400000e+02     1.087000e+03   \n",
       "\n",
       "       Precipitation(in)  \n",
       "count       2.295884e+06  \n",
       "mean        7.016940e-03  \n",
       "std         9.348831e-02  \n",
       "min         0.000000e+00  \n",
       "25%         0.000000e+00  \n",
       "50%         0.000000e+00  \n",
       "75%         0.000000e+00  \n",
       "max         2.400000e+01  "
      ]
     },
     "execution_count": 11,
     "metadata": {},
     "output_type": "execute_result"
    }
   ],
   "source": [
    "df.describe()"
   ]
  },
  {
   "cell_type": "code",
   "execution_count": null,
   "metadata": {
    "colab": {
     "base_uri": "https://localhost:8080/"
    },
    "executionInfo": {
     "elapsed": 29,
     "status": "ok",
     "timestamp": 1682317945866,
     "user": {
      "displayName": "shweta ranjan",
      "userId": "05994225660674107463"
     },
     "user_tz": -330
    },
    "id": "XTlzulE4WQjM",
    "outputId": "3a22e885-188b-4583-f6d3-90e66e1f2501"
   },
   "outputs": [
    {
     "data": {
      "text/plain": [
       "14"
      ]
     },
     "execution_count": 12,
     "metadata": {},
     "output_type": "execute_result"
    }
   ],
   "source": [
    "numerics = ['int16', 'int32', 'int64', 'float16', 'float32', 'float64']\n",
    "\n",
    "numeric_df = df.select_dtypes(include=numerics)\n",
    "len(numeric_df.columns)"
   ]
  },
  {
   "cell_type": "markdown",
   "metadata": {
    "id": "yCrtaLiJcabK"
   },
   "source": [
    "Percentage of missing values per column"
   ]
  },
  {
   "cell_type": "code",
   "execution_count": null,
   "metadata": {
    "colab": {
     "base_uri": "https://localhost:8080/"
    },
    "executionInfo": {
     "elapsed": 7487,
     "status": "ok",
     "timestamp": 1682317953329,
     "user": {
      "displayName": "shweta ranjan",
      "userId": "05994225660674107463"
     },
     "user_tz": -330
    },
    "id": "CNjvxMURcBOH",
    "outputId": "1ffdecb4-4b69-47a5-a0cd-1fd7df0e8153"
   },
   "outputs": [
    {
     "data": {
      "text/plain": [
       "Number                   6.129003e-01\n",
       "Precipitation(in)        1.931079e-01\n",
       "Wind_Chill(F)            1.650568e-01\n",
       "Wind_Speed(mph)          5.550967e-02\n",
       "Wind_Direction           2.592834e-02\n",
       "Humidity(%)              2.568830e-02\n",
       "Weather_Condition        2.482514e-02\n",
       "Visibility(mi)           2.479350e-02\n",
       "Temperature(F)           2.434646e-02\n",
       "Pressure(in)             2.080593e-02\n",
       "Weather_Timestamp        1.783125e-02\n",
       "Airport_Code             3.356011e-03\n",
       "Timezone                 1.285961e-03\n",
       "Nautical_Twilight        1.007612e-03\n",
       "Civil_Twilight           1.007612e-03\n",
       "Sunrise_Sunset           1.007612e-03\n",
       "Astronomical_Twilight    1.007612e-03\n",
       "Zipcode                  4.635647e-04\n",
       "City                     4.814887e-05\n",
       "Street                   7.029032e-07\n",
       "Country                  0.000000e+00\n",
       "Junction                 0.000000e+00\n",
       "Start_Time               0.000000e+00\n",
       "End_Time                 0.000000e+00\n",
       "Start_Lat                0.000000e+00\n",
       "Turning_Loop             0.000000e+00\n",
       "Traffic_Signal           0.000000e+00\n",
       "Traffic_Calming          0.000000e+00\n",
       "Stop                     0.000000e+00\n",
       "Station                  0.000000e+00\n",
       "Roundabout               0.000000e+00\n",
       "Railway                  0.000000e+00\n",
       "No_Exit                  0.000000e+00\n",
       "Crossing                 0.000000e+00\n",
       "Give_Way                 0.000000e+00\n",
       "Bump                     0.000000e+00\n",
       "Amenity                  0.000000e+00\n",
       "Start_Lng                0.000000e+00\n",
       "End_Lat                  0.000000e+00\n",
       "End_Lng                  0.000000e+00\n",
       "Distance(mi)             0.000000e+00\n",
       "Description              0.000000e+00\n",
       "Severity                 0.000000e+00\n",
       "Side                     0.000000e+00\n",
       "County                   0.000000e+00\n",
       "State                    0.000000e+00\n",
       "ID                       0.000000e+00\n",
       "dtype: float64"
      ]
     },
     "execution_count": 13,
     "metadata": {},
     "output_type": "execute_result"
    }
   ],
   "source": [
    "missing_percentages = df.isna().sum().sort_values(ascending=False)/len(df)\n",
    "missing_percentages"
   ]
  },
  {
   "cell_type": "code",
   "execution_count": null,
   "metadata": {
    "colab": {
     "base_uri": "https://localhost:8080/"
    },
    "executionInfo": {
     "elapsed": 24,
     "status": "ok",
     "timestamp": 1682317953330,
     "user": {
      "displayName": "shweta ranjan",
      "userId": "05994225660674107463"
     },
     "user_tz": -330
    },
    "id": "kJQVeU9a-CK3",
    "outputId": "daed7215-7ac2-4275-9a67-cce658aae084"
   },
   "outputs": [
    {
     "data": {
      "text/plain": [
       "Number                    True\n",
       "Precipitation(in)         True\n",
       "Wind_Chill(F)             True\n",
       "Wind_Speed(mph)           True\n",
       "Wind_Direction            True\n",
       "Humidity(%)               True\n",
       "Weather_Condition         True\n",
       "Visibility(mi)            True\n",
       "Temperature(F)            True\n",
       "Pressure(in)              True\n",
       "Weather_Timestamp         True\n",
       "Airport_Code              True\n",
       "Timezone                  True\n",
       "Nautical_Twilight         True\n",
       "Civil_Twilight            True\n",
       "Sunrise_Sunset            True\n",
       "Astronomical_Twilight     True\n",
       "Zipcode                   True\n",
       "City                      True\n",
       "Street                    True\n",
       "Country                  False\n",
       "Junction                 False\n",
       "Start_Time               False\n",
       "End_Time                 False\n",
       "Start_Lat                False\n",
       "Turning_Loop             False\n",
       "Traffic_Signal           False\n",
       "Traffic_Calming          False\n",
       "Stop                     False\n",
       "Station                  False\n",
       "Roundabout               False\n",
       "Railway                  False\n",
       "No_Exit                  False\n",
       "Crossing                 False\n",
       "Give_Way                 False\n",
       "Bump                     False\n",
       "Amenity                  False\n",
       "Start_Lng                False\n",
       "End_Lat                  False\n",
       "End_Lng                  False\n",
       "Distance(mi)             False\n",
       "Description              False\n",
       "Severity                 False\n",
       "Side                     False\n",
       "County                   False\n",
       "State                    False\n",
       "ID                       False\n",
       "dtype: bool"
      ]
     },
     "execution_count": 14,
     "metadata": {},
     "output_type": "execute_result"
    }
   ],
   "source": [
    "missing_percentages!=0"
   ]
  },
  {
   "cell_type": "code",
   "execution_count": null,
   "metadata": {
    "colab": {
     "base_uri": "https://localhost:8080/",
     "height": 447
    },
    "executionInfo": {
     "elapsed": 1249,
     "status": "ok",
     "timestamp": 1682317954559,
     "user": {
      "displayName": "shweta ranjan",
      "userId": "05994225660674107463"
     },
     "user_tz": -330
    },
    "id": "DME6-lpWdTfl",
    "outputId": "d02498d2-94d4-4d14-d616-9b58d8787485"
   },
   "outputs": [
    {
     "data": {
      "text/plain": [
       "<Axes: >"
      ]
     },
     "execution_count": 15,
     "metadata": {},
     "output_type": "execute_result"
    },
    {
     "data": {
      "image/png": "[encoded data removed]",
      "text/plain": [
       "<Figure size 640x480 with 1 Axes>"
      ]
     },
     "metadata": {},
     "output_type": "display_data"
    }
   ],
   "source": [
    "missing_percentages[missing_percentages!=0].plot(kind='barh')"
   ]
  },
  {
   "cell_type": "markdown",
   "metadata": {
    "id": "QyC9jUCR_-SL"
   },
   "source": [
    "Remove columns that you don't want to use"
   ]
  },
  {
   "cell_type": "markdown",
   "metadata": {
    "id": "D8vhzTsOaOod"
   },
   "source": [
    "##Exploratory Data Analysis & Visualization\n",
    "Columns we'll analyze:\n",
    "1. City\n",
    "2. Start_Time\n",
    "3. Start Lat & Start Lng\n",
    "4. Temperature\n",
    "5. Weather Condition"
   ]
  },
  {
   "cell_type": "markdown",
   "metadata": {
    "id": "NCpYh5aYGezs"
   },
   "source": [
    "### City"
   ]
  },
  {
   "cell_type": "code",
   "execution_count": null,
   "metadata": {
    "colab": {
     "base_uri": "https://localhost:8080/"
    },
    "executionInfo": {
     "elapsed": 10,
     "status": "ok",
     "timestamp": 1682317954560,
     "user": {
      "displayName": "shweta ranjan",
      "userId": "05994225660674107463"
     },
     "user_tz": -330
    },
    "id": "R55f9iTYGzVd",
    "outputId": "d3400012-4416-4693-f5fa-fac1b6871580"
   },
   "outputs": [
    {
     "data": {
      "text/plain": [
       "11682"
      ]
     },
     "execution_count": 16,
     "metadata": {},
     "output_type": "execute_result"
    }
   ],
   "source": [
    "cities = df.City.unique()\n",
    "len(cities)\n"
   ]
  },
  {
   "cell_type": "code",
   "execution_count": null,
   "metadata": {
    "colab": {
     "base_uri": "https://localhost:8080/"
    },
    "executionInfo": {
     "elapsed": 7,
     "status": "ok",
     "timestamp": 1682317954560,
     "user": {
      "displayName": "shweta ranjan",
      "userId": "05994225660674107463"
     },
     "user_tz": -330
    },
    "id": "Fb9AbE3aGzX6",
    "outputId": "4da2cf25-c475-4212-f7ca-0da98128760a"
   },
   "outputs": [
    {
     "data": {
      "text/plain": [
       "Miami           106966\n",
       "Los Angeles      68956\n",
       "Orlando          54691\n",
       "Dallas           41979\n",
       "Houston          39448\n",
       "Charlotte        33152\n",
       "Sacramento       32559\n",
       "San Diego        26627\n",
       "Raleigh          22840\n",
       "Minneapolis      22768\n",
       "Portland         20944\n",
       "Nashville        20267\n",
       "Austin           18301\n",
       "Baton Rouge      18182\n",
       "Phoenix          17143\n",
       "Saint Paul       16869\n",
       "New Orleans      16251\n",
       "Atlanta          15622\n",
       "Jacksonville     14967\n",
       "Richmond         14349\n",
       "Name: City, dtype: int64"
      ]
     },
     "execution_count": 17,
     "metadata": {},
     "output_type": "execute_result"
    }
   ],
   "source": [
    "cities_by_accident = df.City.value_counts()\n",
    "cities_by_accident[:20]"
   ]
  },
  {
   "cell_type": "code",
   "execution_count": null,
   "metadata": {
    "id": "qopvdVzKGzbf"
   },
   "outputs": [],
   "source": []
  },
  {
   "cell_type": "code",
   "execution_count": null,
   "metadata": {
    "colab": {
     "base_uri": "https://localhost:8080/",
     "height": 471
    },
    "executionInfo": {
     "elapsed": 1970,
     "status": "ok",
     "timestamp": 1682318810485,
     "user": {
      "displayName": "shweta ranjan",
      "userId": "05994225660674107463"
     },
     "user_tz": -330
    },
    "id": "ODPFTsVTWWat",
    "outputId": "bb3e8ff9-efc5-4b5c-c1bf-fcc38afa09c5"
   },
   "outputs": [
    {
     "data": {
      "text/plain": [
       "<Axes: xlabel='City', ylabel='Count'>"
      ]
     },
     "execution_count": 29,
     "metadata": {},
     "output_type": "execute_result"
    },
    {
     "data": {
      "image/png": "[encoded data removed]",
      "text/plain": [
       "<Figure size 640x480 with 1 Axes>"
      ]
     },
     "metadata": {},
     "output_type": "display_data"
    }
   ],
   "source": [
    "sns.histplot(cities_by_accident,log_scale=True)"
   ]
  },
  {
   "cell_type": "code",
   "execution_count": null,
   "metadata": {
    "colab": {
     "base_uri": "https://localhost:8080/",
     "height": 447
    },
    "executionInfo": {
     "elapsed": 1028,
     "status": "ok",
     "timestamp": 1682317955583,
     "user": {
      "displayName": "shweta ranjan",
      "userId": "05994225660674107463"
     },
     "user_tz": -330
    },
    "id": "M9sjgHfKWWVV",
    "outputId": "622765fd-85e1-43d0-d88f-49ea9f4fdb8c"
   },
   "outputs": [
    {
     "data": {
      "text/plain": [
       "<Axes: >"
      ]
     },
     "execution_count": 18,
     "metadata": {},
     "output_type": "execute_result"
    },
    {
     "data": {
      "image/png": "[encoded data removed]",
      "text/plain": [
       "<Figure size 640x480 with 1 Axes>"
      ]
     },
     "metadata": {},
     "output_type": "display_data"
    }
   ],
   "source": [
    "cities_by_accident[:20].plot(kind = 'barh')"
   ]
  },
  {
   "cell_type": "code",
   "execution_count": null,
   "metadata": {
    "id": "g9jXy8BIWWYM"
   },
   "outputs": [],
   "source": [
    "import seaborn as sns\n",
    "sns.set_style(\"darkgrid\")"
   ]
  },
  {
   "cell_type": "code",
   "execution_count": null,
   "metadata": {
    "colab": {
     "base_uri": "https://localhost:8080/"
    },
    "executionInfo": {
     "elapsed": 346,
     "status": "ok",
     "timestamp": 1682319553608,
     "user": {
      "displayName": "shweta ranjan",
      "userId": "05994225660674107463"
     },
     "user_tz": -330
    },
    "id": "63vKZoZoDuMS",
    "outputId": "1db5cac9-2c09-4f54-8022-00070d2a5612"
   },
   "outputs": [
    {
     "data": {
      "text/plain": [
       "Carney                          1\n",
       "Waverly Hall                    1\n",
       "Center Sandwich                 1\n",
       "Glen Flora                      1\n",
       "Sulphur Springs                 1\n",
       "                               ..\n",
       "Ridgedale                       1\n",
       "Sekiu                           1\n",
       "Wooldridge                      1\n",
       "Bullock                         1\n",
       "American Fork-Pleasant Grove    1\n",
       "Name: City, Length: 1110, dtype: int64"
      ]
     },
     "execution_count": 30,
     "metadata": {},
     "output_type": "execute_result"
    }
   ],
   "source": [
    "cities_by_accident[cities_by_accident == 1]"
   ]
  },
  {
   "cell_type": "markdown",
   "metadata": {
    "id": "cdZuP5nDGFy0"
   },
   "source": [
    "### Start Time"
   ]
  },
  {
   "cell_type": "code",
   "execution_count": null,
   "metadata": {
    "colab": {
     "base_uri": "https://localhost:8080/"
    },
    "executionInfo": {
     "elapsed": 417,
     "status": "ok",
     "timestamp": 1682320314464,
     "user": {
      "displayName": "shweta ranjan",
      "userId": "05994225660674107463"
     },
     "user_tz": -330
    },
    "id": "36DhXKOlGq8j",
    "outputId": "3d44b1f6-6536-49cf-df5d-04e557953782"
   },
   "outputs": [
    {
     "data": {
      "text/plain": [
       "0          2016-02-08 00:37:08\n",
       "1          2016-02-08 05:56:20\n",
       "2          2016-02-08 06:15:39\n",
       "3          2016-02-08 06:51:45\n",
       "4          2016-02-08 07:53:43\n",
       "                  ...         \n",
       "2845337    2019-08-23 18:03:25\n",
       "2845338    2019-08-23 19:11:30\n",
       "2845339    2019-08-23 19:00:21\n",
       "2845340    2019-08-23 19:00:21\n",
       "2845341    2019-08-23 18:52:06\n",
       "Name: Start_Time, Length: 2845342, dtype: object"
      ]
     },
     "execution_count": 31,
     "metadata": {},
     "output_type": "execute_result"
    }
   ],
   "source": [
    "df.Start_Time"
   ]
  },
  {
   "cell_type": "code",
   "execution_count": null,
   "metadata": {
    "id": "TRjRsB9nHSY9"
   },
   "outputs": [],
   "source": [
    "df.Start_Time = pd.to_datetime(df.Start_Time)"
   ]
  },
  {
   "cell_type": "code",
   "execution_count": null,
   "metadata": {
    "colab": {
     "base_uri": "https://localhost:8080/",
     "height": 658
    },
    "executionInfo": {
     "elapsed": 1167,
     "status": "ok",
     "timestamp": 1682324387245,
     "user": {
      "displayName": "shweta ranjan",
      "userId": "05994225660674107463"
     },
     "user_tz": -330
    },
    "id": "5vpIBc4SVe2T",
    "outputId": "e7e7da9f-3d03-4181-c49d-9bc6314d9a5d"
   },
   "outputs": [
    {
     "name": "stderr",
     "output_type": "stream",
     "text": [
      "<ipython-input-38-749071878d20>:1: UserWarning: \n",
      "\n",
      "`distplot` is a deprecated function and will be removed in seaborn v0.14.0.\n",
      "\n",
      "Please adapt your code to use either `displot` (a figure-level function with\n",
      "similar flexibility) or `histplot` (an axes-level function for histograms).\n",
      "\n",
      "For a guide to updating your code to use the new functions, please see\n",
      "https://gist.github.com/mwaskom/de44147ed2974457ad6372750bbe5751\n",
      "\n",
      "  sns.distplot(df.Start_Time.dt.hour,bins =24,kde = False,norm_hist = True)\n"
     ]
    },
    {
     "data": {
      "text/plain": [
       "<Axes: xlabel='Start_Time'>"
      ]
     },
     "execution_count": 38,
     "metadata": {},
     "output_type": "execute_result"
    },
    {
     "data": {
      "image/png": "[encoded data removed]",
      "text/plain": [
       "<Figure size 640x480 with 1 Axes>"
      ]
     },
     "metadata": {},
     "output_type": "display_data"
    }
   ],
   "source": [
    "sns.distplot(df.Start_Time.dt.hour,bins =24,kde = False,norm_hist = True)"
   ]
  },
  {
   "cell_type": "markdown",
   "metadata": {
    "id": "DduQC1jqWXcD"
   },
   "source": [
    "- A high percentage of accidents occur between 3pm to 5pm. (probably because people drive their vehicles carelessly and recklessly due to thin vehicular traffic during these hours)\n",
    "\n",
    "- Next highest percentage of accidents is from 6am to 9am(probably because people are in a hurry to reach for work)\n"
   ]
  },
  {
   "cell_type": "code",
   "execution_count": null,
   "metadata": {
    "colab": {
     "base_uri": "https://localhost:8080/",
     "height": 658
    },
    "executionInfo": {
     "elapsed": 2695,
     "status": "ok",
     "timestamp": 1682324900846,
     "user": {
      "displayName": "shweta ranjan",
      "userId": "05994225660674107463"
     },
     "user_tz": -330
    },
    "id": "T10zJ3yyXofU",
    "outputId": "743e9aa4-84f5-4025-883a-129a29ced378"
   },
   "outputs": [
    {
     "name": "stderr",
     "output_type": "stream",
     "text": [
      "<ipython-input-41-a5eaef92575a>:1: UserWarning: \n",
      "\n",
      "`distplot` is a deprecated function and will be removed in seaborn v0.14.0.\n",
      "\n",
      "Please adapt your code to use either `displot` (a figure-level function with\n",
      "similar flexibility) or `histplot` (an axes-level function for histograms).\n",
      "\n",
      "For a guide to updating your code to use the new functions, please see\n",
      "https://gist.github.com/mwaskom/de44147ed2974457ad6372750bbe5751\n",
      "\n",
      "  sns.distplot(df.Start_Time.dt.dayofweek,bins =7,kde = False,norm_hist = True)\n"
     ]
    },
    {
     "data": {
      "text/plain": [
       "<Axes: xlabel='Start_Time'>"
      ]
     },
     "execution_count": 41,
     "metadata": {},
     "output_type": "execute_result"
    },
    {
     "data": {
      "image/png": "[encoded data removed]",
      "text/plain": [
       "<Figure size 640x480 with 1 Axes>"
      ]
     },
     "metadata": {},
     "output_type": "display_data"
    }
   ],
   "source": [
    "sns.distplot(df.Start_Time.dt.dayofweek,bins =7,kde = False,norm_hist = True)"
   ]
  },
  {
   "cell_type": "markdown",
   "metadata": {
    "id": "B1qN7rn6YeJv"
   },
   "source": [
    "- Is the distribution of accidents by hour the same on weekends as on wekdays?"
   ]
  },
  {
   "cell_type": "code",
   "execution_count": null,
   "metadata": {
    "colab": {
     "base_uri": "https://localhost:8080/",
     "height": 658
    },
    "executionInfo": {
     "elapsed": 2640,
     "status": "ok",
     "timestamp": 1682329598922,
     "user": {
      "displayName": "shweta ranjan",
      "userId": "05994225660674107463"
     },
     "user_tz": -330
    },
    "id": "_5ROe6R9YyTb",
    "outputId": "ab871fea-5ac3-479d-b881-36d39e214e8a"
   },
   "outputs": [
    {
     "name": "stderr",
     "output_type": "stream",
     "text": [
      "<ipython-input-45-8fa53188c075>:2: UserWarning: \n",
      "\n",
      "`distplot` is a deprecated function and will be removed in seaborn v0.14.0.\n",
      "\n",
      "Please adapt your code to use either `displot` (a figure-level function with\n",
      "similar flexibility) or `histplot` (an axes-level function for histograms).\n",
      "\n",
      "For a guide to updating your code to use the new functions, please see\n",
      "https://gist.github.com/mwaskom/de44147ed2974457ad6372750bbe5751\n",
      "\n",
      "  sns.distplot(sundays_start_time.dt.hour,bins =24,kde = False,norm_hist = True)\n"
     ]
    },
    {
     "data": {
      "text/plain": [
       "<Axes: xlabel='Start_Time'>"
      ]
     },
     "execution_count": 45,
     "metadata": {},
     "output_type": "execute_result"
    },
    {
     "data": {
      "image/png": "[encoded data removed]",
      "text/plain": [
       "<Figure size 640x480 with 1 Axes>"
      ]
     },
     "metadata": {},
     "output_type": "display_data"
    }
   ],
   "source": [
    "sundays_start_time = df.Start_Time[df.Start_Time.dt.dayofweek == 6]\n",
    "sns.distplot(sundays_start_time.dt.hour,bins =24,kde = False,norm_hist = True)"
   ]
  },
  {
   "cell_type": "code",
   "execution_count": null,
   "metadata": {
    "colab": {
     "base_uri": "https://localhost:8080/",
     "height": 658
    },
    "executionInfo": {
     "elapsed": 2078,
     "status": "ok",
     "timestamp": 1682329772014,
     "user": {
      "displayName": "shweta ranjan",
      "userId": "05994225660674107463"
     },
     "user_tz": -330
    },
    "id": "auiJyjd6qsuw",
    "outputId": "9826f03d-eade-498c-967c-35d4eb75f597"
   },
   "outputs": [
    {
     "name": "stderr",
     "output_type": "stream",
     "text": [
      "<ipython-input-46-ca789af6da1e>:2: UserWarning: \n",
      "\n",
      "`distplot` is a deprecated function and will be removed in seaborn v0.14.0.\n",
      "\n",
      "Please adapt your code to use either `displot` (a figure-level function with\n",
      "similar flexibility) or `histplot` (an axes-level function for histograms).\n",
      "\n",
      "For a guide to updating your code to use the new functions, please see\n",
      "https://gist.github.com/mwaskom/de44147ed2974457ad6372750bbe5751\n",
      "\n",
      "  sns.distplot(mondays_start_time.dt.hour,bins =24,kde = False,norm_hist = True)\n"
     ]
    },
    {
     "data": {
      "text/plain": [
       "<Axes: xlabel='Start_Time'>"
      ]
     },
     "execution_count": 46,
     "metadata": {},
     "output_type": "execute_result"
    },
    {
     "data": {
      "image/png": "[encoded data removed]",
      "text/plain": [
       "<Figure size 640x480 with 1 Axes>"
      ]
     },
     "metadata": {},
     "output_type": "display_data"
    }
   ],
   "source": [
    "mondays_start_time = df.Start_Time[df.Start_Time.dt.dayofweek == 0]\n",
    "sns.distplot(mondays_start_time.dt.hour,bins =24,kde = False,norm_hist = True)"
   ]
  },
  {
   "cell_type": "markdown",
   "metadata": {
    "id": "a6I4npZrq2CP"
   },
   "source": [
    "- On Sundays, the peak occurs between 2pm to 5pm unlike which is similar to monday where peek occurs between 3pm to 5pm."
   ]
  },
  {
   "cell_type": "code",
   "execution_count": null,
   "metadata": {
    "colab": {
     "base_uri": "https://localhost:8080/",
     "height": 658
    },
    "executionInfo": {
     "elapsed": 1243,
     "status": "ok",
     "timestamp": 1682330076659,
     "user": {
      "displayName": "shweta ranjan",
      "userId": "05994225660674107463"
     },
     "user_tz": -330
    },
    "id": "LYYqqry6rvDM",
    "outputId": "efd716a5-c3e1-4e67-85a1-c9b9e2a3b69e"
   },
   "outputs": [
    {
     "name": "stderr",
     "output_type": "stream",
     "text": [
      "<ipython-input-48-8d0de0f25f10>:1: UserWarning: \n",
      "\n",
      "`distplot` is a deprecated function and will be removed in seaborn v0.14.0.\n",
      "\n",
      "Please adapt your code to use either `displot` (a figure-level function with\n",
      "similar flexibility) or `histplot` (an axes-level function for histograms).\n",
      "\n",
      "For a guide to updating your code to use the new functions, please see\n",
      "https://gist.github.com/mwaskom/de44147ed2974457ad6372750bbe5751\n",
      "\n",
      "  sns.distplot(df.Start_Time.dt.month,bins =12,kde = False,norm_hist = True)\n"
     ]
    },
    {
     "data": {
      "text/plain": [
       "<Axes: xlabel='Start_Time'>"
      ]
     },
     "execution_count": 48,
     "metadata": {},
     "output_type": "execute_result"
    },
    {
     "data": {
      "image/png": "[encoded data removed]",
      "text/plain": [
       "<Figure size 640x480 with 1 Axes>"
      ]
     },
     "metadata": {},
     "output_type": "display_data"
    }
   ],
   "source": [
    "sns.distplot(df.Start_Time.dt.month,bins =12,kde = False,norm_hist = True)"
   ]
  },
  {
   "cell_type": "markdown",
   "metadata": {
    "id": "53gZ8OR9sMgF"
   },
   "source": [
    "- The trend of accidents is lower during the summers (from jan to july) whereas the maximum trend of accidents is increasing from (September to December)\n",
    "- The maximum number of accidents tend to occur during peak winter season (december month)\n",
    "\n",
    "- The lowest number of accidents are reported in the month of March and July."
   ]
  },
  {
   "cell_type": "code",
   "execution_count": null,
   "metadata": {
    "colab": {
     "base_uri": "https://localhost:8080/",
     "height": 658
    },
    "executionInfo": {
     "elapsed": 734,
     "status": "ok",
     "timestamp": 1682330705072,
     "user": {
      "displayName": "shweta ranjan",
      "userId": "05994225660674107463"
     },
     "user_tz": -330
    },
    "id": "5nJaZsCrtAKD",
    "outputId": "52d6829a-7c32-4ec5-e3c2-698864d2d1a7"
   },
   "outputs": [
    {
     "name": "stderr",
     "output_type": "stream",
     "text": [
      "<ipython-input-55-de39d706b1e7>:2: UserWarning: \n",
      "\n",
      "`distplot` is a deprecated function and will be removed in seaborn v0.14.0.\n",
      "\n",
      "Please adapt your code to use either `displot` (a figure-level function with\n",
      "similar flexibility) or `histplot` (an axes-level function for histograms).\n",
      "\n",
      "For a guide to updating your code to use the new functions, please see\n",
      "https://gist.github.com/mwaskom/de44147ed2974457ad6372750bbe5751\n",
      "\n",
      "  sns.distplot(df_2016.Start_Time.dt.month,bins =12,kde = False,norm_hist = True)\n"
     ]
    },
    {
     "data": {
      "text/plain": [
       "<Axes: xlabel='Start_Time'>"
      ]
     },
     "execution_count": 55,
     "metadata": {},
     "output_type": "execute_result"
    },
    {
     "data": {
      "image/png": "[encoded data removed]",
      "text/plain": [
       "<Figure size 640x480 with 1 Axes>"
      ]
     },
     "metadata": {},
     "output_type": "display_data"
    }
   ],
   "source": [
    "df_2016 = df[df.Start_Time.dt.year==2016]\n",
    "sns.distplot(df_2016.Start_Time.dt.month,bins =12,kde = False,norm_hist = True)"
   ]
  },
  {
   "cell_type": "markdown",
   "metadata": {
    "id": "XM9la-3LucEe"
   },
   "source": [
    "- Much data is missing for 2016. Maybe even 2017."
   ]
  },
  {
   "cell_type": "code",
   "execution_count": 24,
   "metadata": {
    "colab": {
     "base_uri": "https://localhost:8080/"
    },
    "executionInfo": {
     "elapsed": 378,
     "status": "ok",
     "timestamp": 1682354367910,
     "user": {
      "displayName": "shweta ranjan",
      "userId": "05994225660674107463"
     },
     "user_tz": -330
    },
    "id": "D6aeM5WUvGtl",
    "outputId": "759b386d-010e-4547-e1c5-ef752c89d2df"
   },
   "outputs": [
    {
     "data": {
      "text/plain": [
       "0          40.108910\n",
       "1          39.865420\n",
       "2          39.102660\n",
       "3          41.062130\n",
       "4          39.172393\n",
       "             ...    \n",
       "2845337    34.002480\n",
       "2845338    32.766960\n",
       "2845339    33.775450\n",
       "2845340    33.992460\n",
       "2845341    34.133930\n",
       "Name: Start_Lat, Length: 2845342, dtype: float64"
      ]
     },
     "execution_count": 24,
     "metadata": {},
     "output_type": "execute_result"
    }
   ],
   "source": [
    "df.Start_Lat"
   ]
  },
  {
   "cell_type": "code",
   "execution_count": 25,
   "metadata": {
    "colab": {
     "base_uri": "https://localhost:8080/"
    },
    "executionInfo": {
     "elapsed": 563,
     "status": "ok",
     "timestamp": 1682354382902,
     "user": {
      "displayName": "shweta ranjan",
      "userId": "05994225660674107463"
     },
     "user_tz": -330
    },
    "id": "9lh1m3ThInxk",
    "outputId": "aeceafb6-dde7-47c0-bff2-20a9cf06c817"
   },
   "outputs": [
    {
     "data": {
      "text/plain": [
       "0          -83.092860\n",
       "1          -84.062800\n",
       "2          -84.524680\n",
       "3          -81.537840\n",
       "4          -84.492792\n",
       "              ...    \n",
       "2845337   -117.379360\n",
       "2845338   -117.148060\n",
       "2845339   -117.847790\n",
       "2845340   -118.403020\n",
       "2845341   -117.230920\n",
       "Name: Start_Lng, Length: 2845342, dtype: float64"
      ]
     },
     "execution_count": 25,
     "metadata": {},
     "output_type": "execute_result"
    }
   ],
   "source": [
    "df.Start_Lng"
   ]
  },
  {
   "cell_type": "code",
   "execution_count": 30,
   "metadata": {
    "colab": {
     "base_uri": "https://localhost:8080/",
     "height": 469
    },
    "executionInfo": {
     "elapsed": 21211,
     "status": "ok",
     "timestamp": 1682355467814,
     "user": {
      "displayName": "shweta ranjan",
      "userId": "05994225660674107463"
     },
     "user_tz": -330
    },
    "id": "1X1sTsUZIrJp",
    "outputId": "a1731277-6102-4dc3-8e5c-4125d0d5159c"
   },
   "outputs": [
    {
     "data": {
      "text/plain": [
       "<Axes: xlabel='Start_Lng', ylabel='Start_Lat'>"
      ]
     },
     "execution_count": 30,
     "metadata": {},
     "output_type": "execute_result"
    },
    {
     "data": {
      "image/png": "[encoded data removed]",
      "text/plain": [
       "<Figure size 640x480 with 1 Axes>"
      ]
     },
     "metadata": {},
     "output_type": "display_data"
    }
   ],
   "source": [
    "sample_df = df.sample(int(0.1*len(df)))\n",
    "sns.scatterplot(x=sample_df.Start_Lng,y=sample_df.Start_Lat,size=0.001)"
   ]
  },
  {
   "cell_type": "code",
   "execution_count": 33,
   "metadata": {
    "colab": {
     "base_uri": "https://localhost:8080/"
    },
    "executionInfo": {
     "elapsed": 6,
     "status": "ok",
     "timestamp": 1682355714141,
     "user": {
      "displayName": "shweta ranjan",
      "userId": "05994225660674107463"
     },
     "user_tz": -330
    },
    "id": "vBUxSskXNIo6",
    "outputId": "c0bfa35e-71a9-4f60-84f5-3f7a417741bb"
   },
   "outputs": [
    {
     "data": {
      "text/plain": [
       "(40.10891, -83.09286)"
      ]
     },
     "execution_count": 33,
     "metadata": {},
     "output_type": "execute_result"
    }
   ],
   "source": [
    "import folium # to create maps\n",
    "lat,lon = df.Start_Lat[0],df.Start_Lng[0]\n",
    "lat,lon"
   ]
  },
  {
   "cell_type": "code",
   "execution_count": 40,
   "metadata": {
    "colab": {
     "base_uri": "https://localhost:8080/"
    },
    "executionInfo": {
     "elapsed": 790,
     "status": "ok",
     "timestamp": 1682358848895,
     "user": {
      "displayName": "shweta ranjan",
      "userId": "05994225660674107463"
     },
     "user_tz": -330
    },
    "id": "JtGs6Zd6ZWM9",
    "outputId": "259e2f12-9bac-4300-8ec6-59fe11547a84"
   },
   "outputs": [
    {
     "data": {
      "text/plain": [
       "[(40.10891, -83.09286),\n",
       " (39.86542, -84.0628),\n",
       " (39.10266, -84.52468),\n",
       " (41.06213, -81.53784),\n",
       " (39.172393, -84.49279200000002),\n",
       " (39.06324, -84.03243),\n",
       " (39.77565, -84.18603),\n",
       " (41.37531, -81.82016999999998),\n",
       " (40.702247, -84.075887),\n",
       " (40.10931, -82.96849),\n",
       " (39.19288, -84.47723),\n",
       " (39.13877, -84.53394),\n",
       " (41.4739, -81.704233),\n",
       " (39.582242, -83.677814),\n",
       " (40.151785, -81.312635),\n",
       " (40.151747, -81.312682),\n",
       " (39.97241, -82.84695),\n",
       " (39.9838, -82.85656999999998),\n",
       " (40.02664, -82.9944),\n",
       " (41.679361, -83.573037),\n",
       " (40.99613, -85.26613),\n",
       " (39.0381, -84.59243000000002),\n",
       " (40.03386, -82.99601),\n",
       " (39.85798, -84.28181),\n",
       " (39.15267, -84.5395),\n",
       " (39.30732, -85.95982),\n",
       " (39.77572, -84.04815),\n",
       " (39.97643, -83.12306),\n",
       " (39.58595, -85.82518),\n",
       " (39.3638, -85.51659000000002),\n",
       " (39.45132, -85.62516),\n",
       " (39.75067, -84.14148),\n",
       " (39.2675, -81.49929),\n",
       " (39.86025, -85.96623000000002),\n",
       " (41.95677, -83.67214),\n",
       " (38.27401, -85.74844),\n",
       " (41.95677, -83.67214),\n",
       " (40.52225, -80.06666),\n",
       " (40.487814, -80.009439),\n",
       " (40.156298, -83.018431),\n",
       " (41.47461, -81.71181999999997),\n",
       " (41.0618, -81.54608),\n",
       " (40.45112, -85.15048),\n",
       " (40.35429, -85.14993),\n",
       " (39.75855, -85.13715),\n",
       " (39.74408, -85.13749),\n",
       " (39.965148, -83.020499),\n",
       " (40.72813, -84.78965),\n",
       " (39.85223, -85.25846999999997),\n",
       " (41.46747, -81.75909),\n",
       " (41.83193, -80.10143000000002),\n",
       " (39.744287, -84.204939),\n",
       " (39.71548, -84.22033),\n",
       " (39.7504, -84.20561),\n",
       " (41.72316, -84.96444),\n",
       " (40.04376, -82.99708000000003),\n",
       " (38.1781, -85.71946),\n",
       " (38.18577, -85.80678),\n",
       " (38.27191, -85.80838),\n",
       " (39.923905, -82.87008),\n",
       " (41.035566, -81.569917),\n",
       " (39.9239, -83.68767),\n",
       " (41.851914, -80.175232),\n",
       " (39.93849, -82.84849),\n",
       " (38.96943, -80.1096),\n",
       " (41.66805, -83.57063000000002),\n",
       " (41.48339, -81.66297),\n",
       " (41.50127, -81.4804),\n",
       " (39.789093, -82.989106),\n",
       " (41.67073, -81.24561),\n",
       " (41.70846, -81.17636),\n",
       " (41.44246, -81.78485),\n",
       " (39.77128, -84.1923),\n",
       " (41.50499, -81.47417),\n",
       " (40.109653, -80.2029),\n",
       " (38.38852, -81.7687),\n",
       " (41.03572, -81.57809),\n",
       " (41.47487, -81.72095),\n",
       " (41.62845, -84.80559000000002),\n",
       " (41.62894, -84.80373),\n",
       " (41.16102, -81.78573),\n",
       " (41.628232, -84.808858),\n",
       " (41.62986, -84.76619000000002),\n",
       " (39.74729, -84.21426),\n",
       " (41.42099, -81.69051999999998),\n",
       " (41.42318, -81.84674),\n",
       " (38.79691, -84.48273),\n",
       " (38.80878, -84.49638),\n",
       " (38.30155, -85.85499),\n",
       " (38.33667, -81.65623000000002),\n",
       " (38.33614, -81.65623000000002),\n",
       " (41.0961, -81.58593),\n",
       " (41.12155, -85.18715999999998),\n",
       " (38.829993, -80.667067),\n",
       " (40.05642, -83.03097),\n",
       " (41.37717, -81.5139),\n",
       " (39.17397, -84.49031),\n",
       " (39.75513, -84.16614),\n",
       " (39.17397, -84.49031),\n",
       " (41.12624, -81.65299),\n",
       " (38.33667, -81.65623000000002),\n",
       " (41.10389, -81.5),\n",
       " (39.16417, -84.45275),\n",
       " (40.11184, -83.00883),\n",
       " (38.31922, -85.75301999999998),\n",
       " (39.09881, -84.50801),\n",
       " (41.473859, -81.708409),\n",
       " (41.039988, -81.565332),\n",
       " (41.73565, -84.99082),\n",
       " (39.26566, -84.43965),\n",
       " (41.46981, -81.81104),\n",
       " (41.25666, -81.63157),\n",
       " (40.58919, -80.09885),\n",
       " (41.06356, -81.49078),\n",
       " (41.06218, -81.50595),\n",
       " (39.17736, -84.4873),\n",
       " (38.33956, -81.60991999999997),\n",
       " (41.47889, -81.6934),\n",
       " (40.58919, -80.09885),\n",
       " (41.41119000000001, -81.64414000000002),\n",
       " (39.24907, -84.44561999999998),\n",
       " (39.28775, -84.40073000000002),\n",
       " (41.47379, -81.89631),\n",
       " (41.54941, -81.60676),\n",
       " (39.03347, -84.603),\n",
       " (39.74903, -84.20106),\n",
       " (39.89473, -83.044),\n",
       " (39.19641, -84.47331),\n",
       " (39.22461, -84.45364000000002),\n",
       " (39.15306, -84.44283),\n",
       " (39.97262, -82.98368),\n",
       " (40.535447, -80.03596),\n",
       " (40.529455, -80.03506999999998),\n",
       " (41.49647, -81.67733),\n",
       " (41.0634, -81.49079),\n",
       " (39.74284, -84.20479),\n",
       " (41.46822, -81.9476),\n",
       " (41.92479, -83.36026),\n",
       " (41.184738, -80.432713),\n",
       " (40.27317, -85.5577),\n",
       " (39.98264, -85.14301999999998),\n",
       " (40.27317, -85.5577),\n",
       " (40.42667, -85.54968000000002),\n",
       " (39.97527, -85.14018),\n",
       " (39.09889, -84.52118),\n",
       " (38.88012, -84.62527),\n",
       " (38.79256, -84.60423),\n",
       " (39.74284, -84.20479),\n",
       " (40.484222, -80.13755400000002),\n",
       " (41.20104, -80.06859),\n",
       " (39.05528, -84.39072),\n",
       " (41.623325, -83.692226),\n",
       " (40.53024, -80.00957),\n",
       " (40.06527, -82.99591),\n",
       " (40.43954, -80.00971),\n",
       " (41.422004, -81.730092),\n",
       " (39.3638, -85.51659000000002),\n",
       " (39.82083, -85.7749),\n",
       " (40.0366, -85.72561999999998),\n",
       " (39.855691, -84.29079200000002),\n",
       " (40.049152, -85.682047),\n",
       " (39.83939, -85.55752),\n",
       " (40.13386, -80.00666),\n",
       " (40.43954, -80.00971),\n",
       " (40.13386, -80.00666),\n",
       " (40.13386, -80.00666),\n",
       " (39.97859, -82.9763),\n",
       " (39.95459, -83.04255),\n",
       " (39.68291, -85.97372),\n",
       " (38.49304, -85.77156),\n",
       " (38.33428, -85.82177),\n",
       " (39.99921, -83.02875),\n",
       " (38.53844, -85.77702),\n",
       " (38.1781, -85.71946),\n",
       " (39.87433, -82.99882),\n",
       " (41.39546, -85.32855),\n",
       " (41.39469, -85.28893000000002),\n",
       " (41.90473, -83.36986),\n",
       " (40.77137000000001, -84.62203000000002),\n",
       " (40.80059, -84.61374),\n",
       " (39.87433, -82.99882),\n",
       " (40.78593, -84.61787),\n",
       " (40.80059, -84.61374),\n",
       " (41.67487, -83.57266),\n",
       " (41.47376, -81.86113),\n",
       " (38.33465, -85.75389),\n",
       " (39.14014, -84.53495),\n",
       " (41.80143, -85.34888000000002),\n",
       " (41.35761, -81.81988),\n",
       " (39.34392, -84.39043000000002),\n",
       " (39.816154, -83.18010500000003),\n",
       " (38.824929, -85.47449499999998),\n",
       " (38.82415, -85.63794),\n",
       " (40.593244, -85.150017),\n",
       " (40.600487, -85.150502),\n",
       " (41.19362, -80.2374),\n",
       " (40.55267, -85.14974000000002),\n",
       " (40.56744000000001, -85.14993),\n",
       " (40.14212, -81.55153),\n",
       " (39.94397, -82.41127),\n",
       " (39.96893, -83.11922),\n",
       " (40.6126, -80.09494000000002),\n",
       " (40.11184, -83.00883),\n",
       " (41.06347, -81.50372),\n",
       " (39.972931, -85.965783),\n",
       " (39.95459, -83.04255),\n",
       " (40.11184, -83.00883),\n",
       " (39.97241, -82.84695),\n",
       " (39.9912, -85.9188),\n",
       " (41.34965, -81.51146),\n",
       " (41.11987, -80.69004),\n",
       " (41.11851, -80.69242),\n",
       " (40.05642, -83.03097),\n",
       " (38.117487, -85.760397),\n",
       " (41.44134, -81.65055),\n",
       " (38.61531, -80.76034),\n",
       " (41.124052, -80.677589),\n",
       " (39.95085, -82.94428),\n",
       " (41.06257, -81.52228000000002),\n",
       " (40.11212, -83.03905999999998),\n",
       " (39.887033, -83.043909),\n",
       " (40.04916, -83.03336),\n",
       " (41.12906, -85.1612),\n",
       " (41.17798, -85.10323000000002),\n",
       " (38.08783, -83.90263),\n",
       " (41.63316, -83.54203000000003),\n",
       " (39.149639, -84.539381),\n",
       " (40.9605, -85.3528),\n",
       " (40.96051, -85.34522),\n",
       " (41.08204, -80.64846999999997),\n",
       " (41.61791, -83.54106999999998),\n",
       " (38.41592, -82.3465),\n",
       " (41.67571, -83.69385),\n",
       " (39.08272, -84.52264),\n",
       " (39.280947, -80.278075),\n",
       " (38.36387, -81.73867),\n",
       " (40.0187, -82.90465999999998),\n",
       " (41.53757, -81.64083000000002),\n",
       " (41.16522, -81.47454),\n",
       " (39.52352, -82.02360999999998),\n",
       " (39.517216, -82.025802),\n",
       " (40.322818, -83.071034),\n",
       " (41.73565, -84.99082),\n",
       " (39.14648, -84.45455),\n",
       " (39.82122, -85.76482),\n",
       " (41.11889, -81.65406999999998),\n",
       " (40.121557, -83.151457),\n",
       " (40.11017, -83.15876999999998),\n",
       " (41.57777, -81.54987),\n",
       " (40.121557, -83.151457),\n",
       " (40.11017, -83.15876999999998),\n",
       " (41.04592, -81.69463),\n",
       " (41.42099, -81.69051999999998),\n",
       " (39.27486, -84.346),\n",
       " (39.28266, -84.56742),\n",
       " (39.9467, -82.22232),\n",
       " (39.17397, -84.49031),\n",
       " (39.17736, -84.4873),\n",
       " (39.9467, -82.22232),\n",
       " (39.9467, -82.22232),\n",
       " (41.68518, -83.5678),\n",
       " (41.66572, -83.5652),\n",
       " (39.27125, -84.35176),\n",
       " (41.47395, -81.69931),\n",
       " (39.98505, -80.74006),\n",
       " (39.95813, -80.76219),\n",
       " (41.56544, -81.5835),\n",
       " (38.32587, -83.11389),\n",
       " (38.25869, -85.7622),\n",
       " (38.29322, -85.654625),\n",
       " (39.78609, -83.24606999999997),\n",
       " (41.53968, -81.62795),\n",
       " (39.08927, -84.5227),\n",
       " (38.25922, -85.76632),\n",
       " (41.55264, -81.60032),\n",
       " (39.02187, -84.50492),\n",
       " (41.06755, -81.57421),\n",
       " (40.49223, -80.01029),\n",
       " (41.48836, -81.66471),\n",
       " (39.95085, -82.94428),\n",
       " (41.42063, -81.80859),\n",
       " (41.06755, -81.57421),\n",
       " (40.82949, -81.39732),\n",
       " (41.40091, -81.81724),\n",
       " (41.13355, -85.13584),\n",
       " (38.870386, -84.624429),\n",
       " (41.47974, -81.6667),\n",
       " (40.30095, -80.16651999999998),\n",
       " (39.11543, -84.50003000000002),\n",
       " (41.1419, -81.47694),\n",
       " (39.14917, -84.44711),\n",
       " (39.81979000000001, -84.18908),\n",
       " (39.84509, -84.1899),\n",
       " (41.47461, -81.71181999999997),\n",
       " (39.17304, -84.47589),\n",
       " (39.1021, -84.49754),\n",
       " (41.49873, -81.67260999999998),\n",
       " (39.12627, -84.53509),\n",
       " (41.47394600000001, -81.699011),\n",
       " (39.9745, -83.09654),\n",
       " (39.85911, -84.2808),\n",
       " (39.24943, -84.36541),\n",
       " (38.31179, -85.58773000000002),\n",
       " (39.27486, -84.346),\n",
       " (39.29287, -84.31981),\n",
       " (39.15267, -84.5395),\n",
       " (41.4675, -81.49014),\n",
       " (39.26661, -84.35605),\n",
       " (39.27125, -84.35176),\n",
       " (38.20674, -85.74846),\n",
       " (40.13804, -82.97112),\n",
       " (41.47965, -81.66758),\n",
       " (39.08887, -84.52271),\n",
       " (41.6882, -83.64064),\n",
       " (40.06527, -82.99591),\n",
       " (39.86536, -84.05238),\n",
       " (38.420223, -82.293065),\n",
       " (41.47414000000001, -81.69893),\n",
       " (41.47542, -81.68721),\n",
       " (40.07297, -83.1347),\n",
       " (40.05609000000001, -80.679211),\n",
       " (38.19105, -85.71902),\n",
       " (38.25454000000001, -85.71969),\n",
       " (39.171694, -84.494399),\n",
       " (41.06239, -81.52229),\n",
       " (39.259254, -84.440978),\n",
       " (39.905178, -82.895471),\n",
       " (40.0988, -83.13331),\n",
       " (41.33991, -81.81739),\n",
       " (40.0999, -82.92089),\n",
       " (39.4728, -80.11963),\n",
       " (41.46631, -81.77065999999998),\n",
       " (38.34109, -81.70017),\n",
       " (41.160072, -85.232647),\n",
       " (41.163626, -85.24482900000002),\n",
       " (39.14014, -84.53495),\n",
       " (40.94537, -81.15473),\n",
       " (41.68591, -83.911307),\n",
       " (41.704523, -83.9136),\n",
       " (40.945772, -81.17219399999998),\n",
       " (38.82445, -82.98299),\n",
       " (38.84111, -82.98432),\n",
       " (39.00079, -84.42043000000002),\n",
       " (39.96071, -85.35383),\n",
       " (39.2675, -81.49929),\n",
       " (40.27317, -85.5577),\n",
       " (40.42667, -85.54968000000002),\n",
       " (38.130782, -81.388878),\n",
       " (38.545195, -85.778613),\n",
       " (38.362427, -81.714434),\n",
       " (38.39115, -81.58664),\n",
       " (40.08978, -82.98725999999998),\n",
       " (40.0122, -82.99188000000002),\n",
       " (41.68918, -83.53681999999998),\n",
       " (39.3781, -84.365),\n",
       " (39.11919, -84.53539),\n",
       " (39.05029, -83.77673),\n",
       " (39.04827, -83.77199),\n",
       " (40.0717, -82.90821),\n",
       " (39.09655, -84.48312),\n",
       " (40.43077, -80.02638),\n",
       " (41.443708, -85.19285),\n",
       " (41.438119, -85.15969399999999),\n",
       " (41.46747, -81.75909),\n",
       " (39.044435, -84.465864),\n",
       " (39.22461, -84.45364000000002),\n",
       " (41.104217, -81.499987),\n",
       " (41.1003, -81.4999),\n",
       " (39.1021, -84.49754),\n",
       " (41.46375, -81.69353000000002),\n",
       " (41.52134, -83.45642),\n",
       " (41.52549000000001, -83.46344),\n",
       " (41.43166, -81.68160999999998),\n",
       " (38.22363, -85.50532),\n",
       " (40.85466, -81.41646999999998),\n",
       " (38.22272, -85.50111),\n",
       " (39.12424, -84.53501),\n",
       " (39.09858, -84.51974),\n",
       " (39.63551, -84.19519),\n",
       " (40.39715, -80.10368000000003),\n",
       " (41.56709, -81.57816),\n",
       " (41.18225, -84.94275999999998),\n",
       " (39.10148, -84.52341),\n",
       " (41.55245, -83.60061999999998),\n",
       " (38.52006, -81.35221),\n",
       " (41.3513, -83.62276),\n",
       " (39.25015, -81.30566),\n",
       " (41.345031, -82.285379),\n",
       " (41.351335, -82.26144599999998),\n",
       " (38.38457, -81.804429),\n",
       " (40.41528, -80.01234000000002),\n",
       " (40.03598, -83.12479),\n",
       " (41.03669, -81.50492),\n",
       " (41.68971, -83.53045999999998),\n",
       " (39.587784, -83.723939),\n",
       " (39.626237, -83.73105),\n",
       " (41.06243, -81.49904000000002),\n",
       " (39.97262, -82.98368),\n",
       " (39.93658, -83.00941999999998),\n",
       " (41.208579, -82.807829),\n",
       " (41.4051, -81.8184),\n",
       " (39.29035, -84.39078),\n",
       " (39.90524, -82.89541),\n",
       " (40.04376, -82.99708000000003),\n",
       " (39.98793, -82.98568),\n",
       " (41.874915, -85.409527),\n",
       " (41.890234, -85.409642),\n",
       " (39.9335, -82.78939),\n",
       " (40.04916, -83.03336),\n",
       " (39.99493, -82.93332),\n",
       " (39.83727, -83.09326999999998),\n",
       " (40.98954000000001, -81.49372),\n",
       " (38.53844, -85.77702),\n",
       " (41.10389, -81.5),\n",
       " (38.577894, -85.77896),\n",
       " (41.42099, -81.69051999999998),\n",
       " (38.58054600000001, -85.77866),\n",
       " (39.833935, -84.061832),\n",
       " (38.30344, -85.88893),\n",
       " (39.93654, -83.40048),\n",
       " (39.95612, -83.37499),\n",
       " (39.17766, -84.39780999999998),\n",
       " (40.02155, -83.0354),\n",
       " (39.97518, -85.63374),\n",
       " (39.94576, -85.63454),\n",
       " (40.27744000000001, -85.72518000000002),\n",
       " (39.17304, -84.47589),\n",
       " (41.68648, -83.5669),\n",
       " (41.66267, -85.03312),\n",
       " (41.68976, -83.666),\n",
       " (39.94594, -82.9432),\n",
       " (41.4758, -81.66036),\n",
       " (41.628312, -84.812135),\n",
       " (39.96724, -83.02459),\n",
       " (41.96429000000001, -83.35018000000002),\n",
       " (41.282993, -83.638931),\n",
       " (41.63126, -83.48336),\n",
       " (41.427584, -85.8495),\n",
       " (41.471378, -85.839527),\n",
       " (41.46747, -81.75909),\n",
       " (39.18364, -84.48373000000002),\n",
       " (41.94495, -80.40234),\n",
       " (39.53078, -84.310264),\n",
       " (41.438774, -81.80341999999997),\n",
       " (39.9838, -82.85656999999998),\n",
       " (40.44413400000001, -80.028261),\n",
       " (39.97727, -83.15445),\n",
       " (39.9745, -83.09654),\n",
       " (39.97865, -83.11698),\n",
       " (39.97327, -83.12002),\n",
       " (39.22571, -84.36832),\n",
       " (39.986342, -83.118881),\n",
       " (39.73629, -84.20489),\n",
       " (41.4051, -81.8184),\n",
       " (41.41101, -81.66634),\n",
       " (39.24464, -84.44835),\n",
       " (40.11212, -83.03905999999998),\n",
       " (40.30095, -80.16651999999998),\n",
       " (41.49243, -81.67554),\n",
       " (40.1827, -80.26148),\n",
       " (39.95459, -83.04255),\n",
       " (39.97527, -85.14018),\n",
       " (39.98511, -85.14406),\n",
       " (38.29514, -85.75655),\n",
       " (39.93654, -83.40048),\n",
       " (39.11543, -84.50003000000002),\n",
       " (41.030684, -81.885739),\n",
       " (41.43166, -81.68160999999998),\n",
       " (40.6664, -80.227514),\n",
       " (40.67137, -80.22581),\n",
       " (41.305199, -81.438626),\n",
       " (40.354252, -85.843032),\n",
       " (40.402251, -85.842969),\n",
       " (41.26752000000001, -85.85673),\n",
       " (39.97307, -82.98405),\n",
       " (39.9672, -81.28699999999998),\n",
       " (39.96392, -81.27197),\n",
       " (41.52631, -83.62123000000003),\n",
       " (39.93292, -82.83025),\n",
       " (39.08272, -84.52264),\n",
       " (39.8552, -84.32502),\n",
       " (41.65404, -85.70526),\n",
       " (41.39465, -81.65326),\n",
       " (41.06211, -81.53053),\n",
       " (41.09598, -81.49976),\n",
       " (41.85222, -85.67843),\n",
       " (38.148808, -80.929665),\n",
       " (41.52447, -85.57791),\n",
       " (41.5105, -85.57781),\n",
       " (39.90524, -82.89541),\n",
       " (41.23598, -81.49325999999998),\n",
       " (38.70101, -80.66483000000002),\n",
       " (39.22498, -84.38094),\n",
       " (40.776023, -80.12718100000002),\n",
       " (38.86027, -80.65729),\n",
       " (39.88203, -83.04748000000002),\n",
       " (39.89253400000001, -83.038786),\n",
       " (39.89698, -83.03428000000002),\n",
       " (41.67439, -83.693727),\n",
       " (41.12999, -85.15503000000002),\n",
       " (39.09889, -84.52118),\n",
       " (41.52631, -83.62123000000003),\n",
       " (39.088552, -84.522724),\n",
       " (39.95423, -82.98879000000002),\n",
       " (39.21018, -84.46345),\n",
       " (39.95369, -82.96403000000002),\n",
       " (40.40934, -80.19247),\n",
       " (40.44126, -80.19314),\n",
       " (39.16161, -84.51375),\n",
       " (39.16161, -84.51375),\n",
       " (39.15141, -84.54061),\n",
       " (39.75855, -85.13715),\n",
       " (41.67571, -83.69385),\n",
       " (41.67571, -83.69385),\n",
       " (39.28805, -84.37462),\n",
       " (41.53618, -83.6176),\n",
       " (39.07202, -84.51907),\n",
       " (38.259133, -85.752672),\n",
       " (40.44425, -80.02821),\n",
       " (40.44278, -80.02468),\n",
       " (38.30155, -85.85499),\n",
       " (40.35405, -80.13756),\n",
       " (40.35449000000001, -80.13835999999998),\n",
       " (38.30344, -85.88893),\n",
       " (41.08789, -83.66011),\n",
       " (41.02454, -80.92163000000002),\n",
       " (41.02413, -80.90579),\n",
       " (39.08168, -84.7069),\n",
       " (38.18539000000001, -85.81793),\n",
       " (39.27734, -84.86438000000003),\n",
       " (39.16437, -84.43731),\n",
       " (39.748585, -84.226084),\n",
       " (39.4728, -80.11963),\n",
       " (41.187807, -80.149019),\n",
       " (41.19242, -80.15860500000002),\n",
       " (38.233483, -85.62671800000003),\n",
       " (38.33954, -81.609895),\n",
       " (40.07297, -83.1347),\n",
       " (40.08402, -83.13046),\n",
       " (38.34631, -83.40449),\n",
       " (38.35382, -83.40553),\n",
       " (39.04416, -84.46656),\n",
       " (38.41807, -81.54525),\n",
       " (38.309401, -85.847643),\n",
       " (41.64679, -83.54913),\n",
       " (38.198748, -85.733953),\n",
       " (39.97401, -82.99355),\n",
       " (39.17397, -84.49031),\n",
       " (41.68843, -83.56258000000003),\n",
       " (41.67904, -83.5732),\n",
       " (39.25249, -84.36493),\n",
       " (38.310736, -85.590395),\n",
       " (41.46941, -81.80535),\n",
       " (38.20674, -85.74846),\n",
       " (39.226317, -84.37107900000002),\n",
       " (41.68721, -83.55579),\n",
       " (40.09775, -84.22926),\n",
       " (41.42147, -81.70682),\n",
       " (38.29414600000001, -85.756847),\n",
       " (39.17304, -84.47589),\n",
       " (38.15982, -84.67308),\n",
       " (39.11675, -84.53355),\n",
       " (39.24943, -84.36541),\n",
       " (41.06146, -81.5049),\n",
       " (39.18364, -84.48373000000002),\n",
       " (39.98793, -82.98568),\n",
       " (39.95971, -83.04811),\n",
       " (39.1479, -84.53929000000002),\n",
       " (39.89555, -83.84997),\n",
       " (39.99226, -82.98517),\n",
       " (39.40983, -82.97548),\n",
       " (40.6126, -80.09494000000002),\n",
       " (39.22479000000001, -84.27783000000002),\n",
       " (39.11675, -84.53355),\n",
       " (41.43869, -81.80554000000002),\n",
       " (40.016819, -82.90411),\n",
       " (39.09757000000001, -84.51666),\n",
       " (41.06247000000001, -81.52405),\n",
       " (39.13219, -84.49464),\n",
       " (39.097654, -84.516019),\n",
       " (41.34965, -81.51146),\n",
       " (41.37717, -81.5139),\n",
       " (40.12589000000001, -80.13661),\n",
       " (40.13189000000001, -80.132407),\n",
       " (40.00507, -83.1186),\n",
       " (39.43794000000001, -82.53893000000002),\n",
       " (39.12627, -84.53509),\n",
       " (38.07759, -84.45711999999997),\n",
       " (40.09079000000001, -82.90783),\n",
       " (39.64731, -85.91696999999998),\n",
       " (39.08927, -84.5227),\n",
       " (38.26109, -85.73695),\n",
       " (38.19785, -85.70445),\n",
       " (39.05654000000001, -84.54283000000002),\n",
       " (41.42413, -81.64519),\n",
       " (39.28638, -84.42706),\n",
       " (41.37499, -83.61635),\n",
       " (41.06228, -81.50986999999998),\n",
       " (41.53907, -81.63354),\n",
       " (40.04916, -83.03336),\n",
       " (41.13613, -81.72196),\n",
       " (39.09891, -84.49181999999998),\n",
       " (39.96268, -82.84305),\n",
       " (39.17397, -84.49031),\n",
       " (39.16911, -84.42104),\n",
       " (39.003821, -80.391285),\n",
       " (39.17736, -84.4873),\n",
       " (39.14316, -84.47069),\n",
       " (39.2696, -84.34894),\n",
       " (40.521732, -81.64755),\n",
       " (40.513361, -81.651599),\n",
       " (41.52631, -83.62123000000003),\n",
       " (38.992607, -80.195782),\n",
       " (38.839151, -82.152877),\n",
       " (40.27675, -85.49916),\n",
       " (40.52168, -80.13163),\n",
       " (39.83711, -84.54392),\n",
       " (39.02296, -84.51784),\n",
       " (38.455787, -81.88205),\n",
       " (39.02397, -84.48039),\n",
       " (38.22433, -85.751),\n",
       " (39.05973, -84.42438),\n",
       " (39.27734, -84.86438000000003),\n",
       " (41.47965, -81.66758),\n",
       " (39.02257, -84.48631),\n",
       " (40.44846, -80.00755),\n",
       " (39.09891, -84.28556999999998),\n",
       " (41.06026, -81.55485999999998),\n",
       " (41.802758, -83.684687),\n",
       " (38.0791, -83.94591),\n",
       " (38.01846, -84.15159),\n",
       " (38.30344, -85.88893),\n",
       " (38.84109, -85.81618),\n",
       " (41.14181, -80.72015999999998),\n",
       " (39.14648, -84.45455),\n",
       " (41.04263, -81.50543),\n",
       " (38.21089, -85.82606),\n",
       " (39.75067, -84.14148),\n",
       " (38.28581, -85.50792),\n",
       " (39.15273300000001, -84.541403),\n",
       " (38.23585, -85.658849),\n",
       " (38.20249, -85.68697),\n",
       " (40.53491, -83.10678),\n",
       " (40.52035, -83.10043),\n",
       " (39.12965, -84.49555),\n",
       " (38.22811, -85.7514),\n",
       " (40.41233, -80.07815),\n",
       " (39.7504, -84.20561),\n",
       " (39.08272, -84.52264),\n",
       " (39.781457, -85.839651),\n",
       " (39.781457, -85.839651),\n",
       " (41.06076, -81.45923),\n",
       " (39.688148, -83.88431),\n",
       " (39.693164, -83.882745),\n",
       " (39.9488, -83.02845),\n",
       " (41.11584000000001, -81.61428000000002),\n",
       " (39.797697, -84.189677),\n",
       " (39.20326, -85.95763000000002),\n",
       " (39.24464, -84.44835),\n",
       " (39.73733, -84.25733000000002),\n",
       " (39.969853, -85.972976),\n",
       " (41.11889, -81.65406999999998),\n",
       " (39.13219, -84.49464),\n",
       " (41.458, -83.62201999999998),\n",
       " (40.09268, -83.03726),\n",
       " (40.066965, -83.289888),\n",
       " (40.045608, -83.29660799999998),\n",
       " (39.97307, -82.98405),\n",
       " (39.98248, -85.123922),\n",
       " (39.981095, -85.11027299999998),\n",
       " (40.43021, -80.02554),\n",
       " (40.43219000000001, -80.02781999999998),\n",
       " (39.976567, -83.128639),\n",
       " (41.256658, -85.363439),\n",
       " (41.37499, -83.61635),\n",
       " (41.252653, -85.347328),\n",
       " (39.93658, -83.00941999999998),\n",
       " (39.14014, -84.53495),\n",
       " (40.153014, -82.970316),\n",
       " (39.90524, -82.89541),\n",
       " (39.13219, -84.49464),\n",
       " (40.42581, -80.4294),\n",
       " (41.08789, -83.65977),\n",
       " (39.9488, -83.02845),\n",
       " (41.47585, -81.87980999999998),\n",
       " (39.1079, -84.50284),\n",
       " (38.340803, -81.680728),\n",
       " (40.96473, -85.28862),\n",
       " (38.441, -82.12679),\n",
       " (38.4413, -82.01529000000002),\n",
       " (38.441, -82.12679),\n",
       " (38.18977, -83.48379),\n",
       " (41.194131, -80.201982),\n",
       " (40.09601, -83.13626),\n",
       " (41.23632, -83.65401999999997),\n",
       " (38.1737, -84.81473000000003),\n",
       " (38.19016, -85.7616),\n",
       " (39.25249, -84.36493),\n",
       " (39.137217, -84.04718299999998),\n",
       " (39.141454, -84.016543),\n",
       " (38.344424, -81.613662),\n",
       " (41.93113, -83.35857),\n",
       " (40.89268, -84.61808),\n",
       " (40.46013, -80.19126),\n",
       " (41.119342, -80.698025),\n",
       " (41.117872, -80.693898),\n",
       " (39.15267, -84.5395),\n",
       " (38.27362, -85.80906),\n",
       " (41.458, -83.62201999999998),\n",
       " (39.35655, -84.26419),\n",
       " (38.4062, -81.54054000000002),\n",
       " (41.02525900000001, -81.5042),\n",
       " (38.27362, -85.80906),\n",
       " (38.11969000000001, -85.77235),\n",
       " (38.275406, -85.81314300000003),\n",
       " (38.27508, -85.81517099999998),\n",
       " (41.39769, -81.939),\n",
       " (39.46513, -80.13559000000002),\n",
       " (38.217994, -81.426024),\n",
       " (38.215401, -81.42437199999998),\n",
       " (39.042851, -84.612615),\n",
       " (38.26109, -85.73695),\n",
       " (39.05654000000001, -84.54283000000002),\n",
       " (41.840758, -84.361657),\n",
       " (41.841123, -84.361652),\n",
       " (41.63316, -83.54203000000003),\n",
       " (40.02874, -81.04368000000002),\n",
       " (41.43891, -81.80258),\n",
       " (41.0811, -81.50348000000002),\n",
       " (38.35575, -81.65420999999998),\n",
       " (39.94585, -82.94293),\n",
       " (41.69017, -83.5181),\n",
       " (40.11212, -83.03905999999998),\n",
       " (41.50259000000001, -81.66974),\n",
       " (39.989994, -83.02512),\n",
       " (41.480458, -81.692932),\n",
       " (39.22461, -84.45364000000002),\n",
       " (40.04376, -82.99708000000003),\n",
       " (39.93621, -82.88318000000002),\n",
       " (39.167788, -82.524172),\n",
       " (39.20655, -82.48212),\n",
       " (41.36576, -81.51602),\n",
       " (39.977322, -81.183327),\n",
       " (39.961933, -81.175436),\n",
       " (39.68292, -84.23004),\n",
       " (40.02664, -82.9944),\n",
       " (38.583372, -81.994824),\n",
       " (38.58119600000001, -82.004356),\n",
       " (40.07297, -83.1347),\n",
       " (41.58689, -83.56234),\n",
       " (38.31714, -85.57677),\n",
       " (40.07297, -83.1347),\n",
       " (39.07202, -84.51907),\n",
       " (41.46747, -81.75909),\n",
       " (40.82645, -81.39675),\n",
       " (40.82645, -81.39675),\n",
       " (39.05654000000001, -84.54283000000002),\n",
       " (39.06272, -84.65728),\n",
       " (39.03368, -84.59527),\n",
       " (40.02121, -82.99503),\n",
       " (39.866695, -84.9305),\n",
       " (39.05654000000001, -84.54283000000002),\n",
       " (39.03232, -84.59137),\n",
       " (41.04058, -81.61256999999998),\n",
       " (40.98884, -83.64875),\n",
       " (39.95658, -83.37075),\n",
       " (39.89857, -83.72139),\n",
       " (39.896448, -83.72312099999998),\n",
       " (41.47965, -81.66758),\n",
       " (39.71548, -84.22033),\n",
       " (40.0389, -85.71828000000002),\n",
       " (41.17516, -81.23116999999998),\n",
       " (41.15107, -81.21375),\n",
       " (40.0389, -85.71828000000002),\n",
       " (39.99336, -85.83861999999998),\n",
       " (40.46013, -80.19126),\n",
       " (41.68976, -83.666),\n",
       " (39.97326, -83.00690999999998),\n",
       " (39.48572, -83.94191),\n",
       " (39.83355, -85.99635),\n",
       " (39.79721, -85.97153),\n",
       " (39.98056, -83.11924),\n",
       " (41.458, -83.62243000000002),\n",
       " (39.905352, -82.995352),\n",
       " (39.99921, -83.02875),\n",
       " (40.869049, -81.95845600000001),\n",
       " (41.419021, -81.519515),\n",
       " (39.34392, -84.39043000000002),\n",
       " (39.9454, -82.60271),\n",
       " (38.353957, -81.73513100000002),\n",
       " (38.354505, -81.731585),\n",
       " (41.501623, -81.479519),\n",
       " (39.86477, -83.99871),\n",
       " (38.737813, -85.250959),\n",
       " (40.00507, -83.1186),\n",
       " (39.91978, -82.93149),\n",
       " (39.09757000000001, -84.51666),\n",
       " (41.07995, -81.50389),\n",
       " (41.63316, -83.54203000000003),\n",
       " (39.82529, -83.03175999999998),\n",
       " (39.83209, -82.99884),\n",
       " (39.83208, -83.000447),\n",
       " (38.416631, -84.861968),\n",
       " (40.55549, -80.11634000000002),\n",
       " (39.17736, -84.4873),\n",
       " (41.484589, -81.691778),\n",
       " (41.22734000000001, -81.62705),\n",
       " (39.04695, -84.57498000000002),\n",
       " (39.25595, -84.44287),\n",
       " (39.8888, -82.88181999999998),\n",
       " (39.74729, -84.21426),\n",
       " (39.97415, -83.09486),\n",
       " (39.08272, -84.52264),\n",
       " (39.949808, -83.02289300000002),\n",
       " (39.95141, -83.0137),\n",
       " (38.7056, -80.66107),\n",
       " (39.1479, -84.53929000000002),\n",
       " (41.7573, -83.48075),\n",
       " (39.98946, -85.9299),\n",
       " (39.98894, -83.025012),\n",
       " (41.110996, -80.82384),\n",
       " (41.68685900000001, -83.554005),\n",
       " (41.53907, -81.63354),\n",
       " (39.300562, -84.518869),\n",
       " (41.202543, -85.7011),\n",
       " (39.19288, -84.47723),\n",
       " (40.07297, -83.1347),\n",
       " (39.140991, -84.483618),\n",
       " (41.121599, -80.789503),\n",
       " (41.31438, -81.51286),\n",
       " (39.85922, -84.27762),\n",
       " (40.42005, -80.03531),\n",
       " (39.9589, -82.98257),\n",
       " (39.89087, -83.85382),\n",
       " (39.89862, -83.85353),\n",
       " (40.03938, -83.050567),\n",
       " (41.41218, -81.61371),\n",
       " (38.306159, -80.833765),\n",
       " (40.104, -82.94154),\n",
       " (38.24178, -85.62212),\n",
       " (41.55264, -81.60032),\n",
       " (39.99226, -82.98517),\n",
       " (38.31553, -85.58313000000003),\n",
       " (38.400331, -85.371049),\n",
       " (38.31251, -85.57741999999998),\n",
       " (38.400331, -85.371049),\n",
       " (39.88938, -82.88316),\n",
       " (38.15873, -80.90504),\n",
       " (39.9745, -83.09654),\n",
       " (41.47487, -81.72095),\n",
       " (39.26931, -84.4307),\n",
       " (38.2201, -85.82223),\n",
       " (41.48339, -81.66297),\n",
       " (39.16161, -84.51375),\n",
       " (41.42734, -82.08322),\n",
       " (41.52631, -83.62123000000003),\n",
       " (39.91732, -83.012335),\n",
       " (41.60867, -81.48891),\n",
       " (41.20554, -85.17116),\n",
       " (41.507189, -81.67124),\n",
       " (39.97415, -83.09486),\n",
       " (39.97043, -83.01961999999997),\n",
       " (39.93849, -82.84849),\n",
       " (39.89698, -83.03428000000002),\n",
       " (39.71452, -84.22281),\n",
       " (40.11468, -83.01644),\n",
       " (38.34244, -85.80447),\n",
       " (41.47036, -81.65984),\n",
       " (38.30056, -85.84703),\n",
       " (39.169389, -84.50389),\n",
       " (39.936838, -83.042661),\n",
       " (39.937567, -83.04209200000003),\n",
       " (39.9425, -82.53536),\n",
       " (39.27125, -84.35176),\n",
       " (41.398877, -83.616108),\n",
       " (39.24422, -84.30224),\n",
       " (40.412997, -80.07973299999998),\n",
       " (39.021521, -84.50784300000002),\n",
       " (41.12367, -80.76913),\n",
       " (41.073876, -83.66091999999998),\n",
       " (39.01992, -83.65886),\n",
       " (38.97914, -83.65465),\n",
       " (40.09927, -83.15793000000002),\n",
       " (39.93658, -83.00941999999998),\n",
       " (39.11543, -84.50003000000002),\n",
       " (41.474552, -81.711522),\n",
       " (39.78517, -84.18457),\n",
       " (41.47974, -81.6667),\n",
       " (38.27719, -85.69383),\n",
       " (38.495124, -85.771118),\n",
       " (39.73277, -84.20522),\n",
       " (41.458, -83.62243000000002),\n",
       " (39.045381, -84.462312),\n",
       " (41.526, -81.65974),\n",
       " (40.78725, -81.38592),\n",
       " (38.3657, -85.75495),\n",
       " (39.02575, -84.61272),\n",
       " (40.90923, -81.79765),\n",
       " (40.91649, -81.78869),\n",
       " (39.10051, -80.39199),\n",
       " (40.082643, -82.91367199999998),\n",
       " (41.47162, -81.90626),\n",
       " (40.08155, -82.91859000000002),\n",
       " (40.07976, -82.92689),\n",
       " (38.27511, -85.81238),\n",
       " (39.02908, -84.53565),\n",
       " (39.04455, -84.57798000000003),\n",
       " (39.83026, -81.45434),\n",
       " (39.81436, -81.46898),\n",
       " (38.41336, -82.3483),\n",
       " (38.20674, -85.74846),\n",
       " (38.10937, -85.70123000000002),\n",
       " (40.26758, -82.92745),\n",
       " (38.22285, -85.57436),\n",
       " (40.43827, -80.00527),\n",
       " (39.08272, -84.52264),\n",
       " (40.046599, -85.99359),\n",
       " (41.67904, -83.5732),\n",
       " (40.52225, -80.06666),\n",
       " (41.041763, -81.3932),\n",
       " (39.02541, -85.88784),\n",
       " (39.887572, -84.047499),\n",
       " (39.90803, -84.03969000000002),\n",
       " (39.8181, -81.45925),\n",
       " (39.8181, -81.45925),\n",
       " (39.81447, -81.46769),\n",
       " (41.47307, -80.36586),\n",
       " (41.460561, -80.366376),\n",
       " (39.75022, -84.19668),\n",
       " (39.16161, -84.51375),\n",
       " (39.82329, -84.166569),\n",
       " (39.818751, -84.167637),\n",
       " (39.15267, -84.5395),\n",
       " (40.480209, -85.719799),\n",
       " (39.02676, -84.61421),\n",
       " (40.480209, -85.719799),\n",
       " (40.48013, -85.72942900000002),\n",
       " (38.24863, -85.70467),\n",
       " (39.24907, -84.44561999999998),\n",
       " (39.18364, -84.48373000000002),\n",
       " (41.420898, -81.69322),\n",
       " (39.18976, -84.26285),\n",
       " (40.00921, -83.03149),\n",
       " (41.12369, -80.75595),\n",
       " (41.09705, -81.50012),\n",
       " (41.03011, -81.40292099999998),\n",
       " (39.9533, -83.0032),\n",
       " (39.91404, -83.01729),\n",
       " (39.11811, -84.49975),\n",
       " (39.73277, -84.20522),\n",
       " (41.47379, -81.69592),\n",
       " (41.47395, -81.69931),\n",
       " (39.62334, -81.83577),\n",
       " (39.98233, -82.98449000000002),\n",
       " (40.15106, -80.03243),\n",
       " (41.66332, -83.56385999999998),\n",
       " (39.35245, -84.37507),\n",
       " (41.67178, -83.6939),\n",
       " (38.38018, -82.60993),\n",
       " (39.03347, -84.603),\n",
       " (40.42116, -80.0438),\n",
       " (41.341147, -83.347543),\n",
       " (41.34131, -83.376561),\n",
       " (40.26758, -82.92745),\n",
       " (40.432459, -80.023538),\n",
       " (39.9912, -85.9188),\n",
       " (39.05654000000001, -84.54283000000002),\n",
       " (38.39328, -85.76223),\n",
       " (39.97165800000001, -80.017133),\n",
       " (39.98381, -80.01011),\n",
       " (39.84457, -85.51639399999998),\n",
       " (38.399528, -85.76430500000002),\n",
       " (38.38981, -81.76937),\n",
       " (41.47965, -81.66758),\n",
       " (39.97859, -82.9763),\n",
       " (40.68109000000001, -80.24616999999998),\n",
       " (41.47487, -81.72095),\n",
       " (40.68109000000001, -80.24616999999998),\n",
       " (40.1412, -82.97121),\n",
       " (39.85942, -84.27778),\n",
       " (39.10838, -84.50296999999998),\n",
       " (39.32662, -84.42002),\n",
       " (39.24907, -84.44561999999998),\n",
       " (41.11959, -81.64568),\n",
       " (39.04455, -84.57798000000003),\n",
       " (38.26109, -85.73695),\n",
       " (38.21911, -85.50582),\n",
       " (39.94976, -83.04032),\n",
       " (38.82584, -120.029214),\n",
       " (37.358209, -121.840017),\n",
       " (37.881943, -122.307987),\n",
       " (37.881038, -122.307788),\n",
       " (38.518811, -121.101664),\n",
       " (38.518811, -121.101664),\n",
       " (36.9903, -119.71146),\n",
       " (37.42592, -122.09879),\n",
       " (37.75745, -122.21131),\n",
       " (37.31648, -121.96746),\n",
       " (37.44415, -122.2688),\n",
       " (37.71981, -121.65943),\n",
       " ...]"
      ]
     },
     "execution_count": 40,
     "metadata": {},
     "output_type": "execute_result"
    }
   ],
   "source": [
    "zip(list(df.Start_Lat),list(df.Start_Lng))"
   ]
  },
  {
   "cell_type": "code",
   "execution_count": 44,
   "metadata": {
    "executionInfo": {
     "elapsed": 6,
     "status": "ok",
     "timestamp": 1682359556739,
     "user": {
      "displayName": "shweta ranjan",
      "userId": "05994225660674107463"
     },
     "user_tz": -330
    },
    "id": "MDmHNnirbuOf"
   },
   "outputs": [],
   "source": [
    "from folium.plugins import HeatMap"
   ]
  },
  {
   "cell_type": "code",
   "execution_count": 55,
   "metadata": {
    "executionInfo": {
     "elapsed": 8,
     "status": "ok",
     "timestamp": 1682359873564,
     "user": {
      "displayName": "shweta ranjan",
      "userId": "05994225660674107463"
     },
     "user_tz": -330
    },
    "id": "mrqnUgr5ahKx"
   },
   "outputs": [],
   "source": [
    "sample_df = df.sample(int(0.001 * len(df)))\n",
    "lat_lon_pairs = list(zip(list(sample_df.Start_Lat), list(sample_df.Start_Lng)))"
   ]
  },
  {
   "cell_type": "code",
   "execution_count": 56,
   "metadata": {
    "colab": {
     "base_uri": "https://localhost:8080/",
     "height": 712
    },
    "executionInfo": {
     "elapsed": 817,
     "status": "ok",
     "timestamp": 1682359882055,
     "user": {
      "displayName": "shweta ranjan",
      "userId": "05994225660674107463"
     },
     "user_tz": -330
    },
    "id": "xEeelZstNTQp",
    "outputId": "cfd82d3c-0f4c-417b-9527-9bdec4da3695"
   },
   "outputs": [
    {
     "data": {
      "text/html": [
       "<div style=\"width:100%;\"><div style=\"position:relative;width:100%;height:0;padding-bottom:60%;\"><span style=\"color:#565656\">Make this Notebook Trusted to load map: File -> Trust Notebook</span><iframe srcdoc=\"&lt;!DOCTYPE html&gt;\n",
       "&lt;html&gt;\n",
       "&lt;head&gt;\n",
       "    \n",
       "    &lt;meta http-equiv=&quot;content-type&quot; content=&quot;text/html; charset=UTF-8&quot; /&gt;\n",
       "    \n",
       "        &lt;script&gt;\n",
       "            L_NO_TOUCH = false;\n",
       "            L_DISABLE_3D = false;\n",
       "        &lt;/script&gt;\n",
       "    \n",
       "    &lt;style&gt;html, body {width: 100%;height: 100%;margin: 0;padding: 0;}&lt;/style&gt;\n",
       "    &lt;style&gt;#map {position:absolute;top:0;bottom:0;right:0;left:0;}&lt;/style&gt;\n",
       "    &lt;script src=&quot;https://cdn.jsdelivr.net/npm/leaflet@1.9.3/dist/leaflet.js&quot;&gt;&lt;/script&gt;\n",
       "    &lt;script src=&quot;https://code.jquery.com/jquery-1.12.4.min.js&quot;&gt;&lt;/script&gt;\n",
       "    &lt;script src=&quot;https://cdn.jsdelivr.net/npm/bootstrap@5.2.2/dist/js/bootstrap.bundle.min.js&quot;&gt;&lt;/script&gt;\n",
       "    &lt;script src=&quot;https://cdnjs.cloudflare.com/ajax/libs/Leaflet.awesome-markers/2.0.2/leaflet.awesome-markers.js&quot;&gt;&lt;/script&gt;\n",
       "    &lt;link rel=&quot;stylesheet&quot; href=&quot;https://cdn.jsdelivr.net/npm/leaflet@1.9.3/dist/leaflet.css&quot;/&gt;\n",
       "    &lt;link rel=&quot;stylesheet&quot; href=&quot;https://cdn.jsdelivr.net/npm/bootstrap@5.2.2/dist/css/bootstrap.min.css&quot;/&gt;\n",
       "    &lt;link rel=&quot;stylesheet&quot; href=&quot;https://netdna.bootstrapcdn.com/bootstrap/3.0.0/css/bootstrap.min.css&quot;/&gt;\n",
       "    &lt;link rel=&quot;stylesheet&quot; href=&quot;https://cdn.jsdelivr.net/npm/@fortawesome/fontawesome-free@6.2.0/css/all.min.css&quot;/&gt;\n",
       "    &lt;link rel=&quot;stylesheet&quot; href=&quot;https://cdnjs.cloudflare.com/ajax/libs/Leaflet.awesome-markers/2.0.2/leaflet.awesome-markers.css&quot;/&gt;\n",
       "    &lt;link rel=&quot;stylesheet&quot; href=&quot;https://cdn.jsdelivr.net/gh/python-visualization/folium/folium/templates/leaflet.awesome.rotate.min.css&quot;/&gt;\n",
       "    \n",
       "            &lt;meta name=&quot;viewport&quot; content=&quot;width=device-width,\n",
       "                initial-scale=1.0, maximum-scale=1.0, user-scalable=no&quot; /&gt;\n",
       "            &lt;style&gt;\n",
       "                #map_1920470c03f197be79346212fc426602 {\n",
       "                    position: relative;\n",
       "                    width: 100.0%;\n",
       "                    height: 100.0%;\n",
       "                    left: 0.0%;\n",
       "                    top: 0.0%;\n",
       "                }\n",
       "                .leaflet-container { font-size: 1rem; }\n",
       "            &lt;/style&gt;\n",
       "        \n",
       "    &lt;script src=&quot;https://cdn.jsdelivr.net/gh/python-visualization/folium@main/folium/templates/leaflet_heat.min.js&quot;&gt;&lt;/script&gt;\n",
       "&lt;/head&gt;\n",
       "&lt;body&gt;\n",
       "    \n",
       "    \n",
       "            &lt;div class=&quot;folium-map&quot; id=&quot;map_1920470c03f197be79346212fc426602&quot; &gt;&lt;/div&gt;\n",
       "        \n",
       "&lt;/body&gt;\n",
       "&lt;script&gt;\n",
       "    \n",
       "    \n",
       "            var map_1920470c03f197be79346212fc426602 = L.map(\n",
       "                &quot;map_1920470c03f197be79346212fc426602&quot;,\n",
       "                {\n",
       "                    center: [0, 0],\n",
       "                    crs: L.CRS.EPSG3857,\n",
       "                    zoom: 1,\n",
       "                    zoomControl: true,\n",
       "                    preferCanvas: false,\n",
       "                }\n",
       "            );\n",
       "\n",
       "            \n",
       "\n",
       "        \n",
       "    \n",
       "            var tile_layer_27beec345fc00aade70ec9c82c2b9fe6 = L.tileLayer(\n",
       "                &quot;https://{s}.tile.openstreetmap.org/{z}/{x}/{y}.png&quot;,\n",
       "                {&quot;attribution&quot;: &quot;Data by \\u0026copy; \\u003ca target=\\&quot;_blank\\&quot; href=\\&quot;http://openstreetmap.org\\&quot;\\u003eOpenStreetMap\\u003c/a\\u003e, under \\u003ca target=\\&quot;_blank\\&quot; href=\\&quot;http://www.openstreetmap.org/copyright\\&quot;\\u003eODbL\\u003c/a\\u003e.&quot;, &quot;detectRetina&quot;: false, &quot;maxNativeZoom&quot;: 18, &quot;maxZoom&quot;: 18, &quot;minZoom&quot;: 0, &quot;noWrap&quot;: false, &quot;opacity&quot;: 1, &quot;subdomains&quot;: &quot;abc&quot;, &quot;tms&quot;: false}\n",
       "            ).addTo(map_1920470c03f197be79346212fc426602);\n",
       "        \n",
       "    \n",
       "            var heat_map_b5e90742e7e04441f695e79aa1c184b5 = L.heatLayer(\n",
       "                [[37.79905, -122.276047], [45.661662, -118.801522], [34.049918, -117.99712], [34.960109, -82.50148], [33.924296000000005, -117.556708], [42.341987, -71.062761], [40.197719, -74.613765], [32.03992, -81.144536], [40.6407, -73.74334], [33.760444, -84.682126]],\n",
       "                {&quot;blur&quot;: 15, &quot;maxZoom&quot;: 18, &quot;minOpacity&quot;: 0.5, &quot;radius&quot;: 25}\n",
       "            ).addTo(map_1920470c03f197be79346212fc426602);\n",
       "        \n",
       "&lt;/script&gt;\n",
       "&lt;/html&gt;\" style=\"position:absolute;width:100%;height:100%;left:0;top:0;border:none !important;\" allowfullscreen webkitallowfullscreen mozallowfullscreen></iframe></div></div>"
      ],
      "text/plain": [
       "<folium.folium.Map at 0x7fc8dbc34760>"
      ]
     },
     "execution_count": 56,
     "metadata": {},
     "output_type": "execute_result"
    }
   ],
   "source": [
    "map = folium.Map()\n",
    "HeatMap(lat_lon_pairs[:10]).add_to(map)\n",
    "map"
   ]
  },
  {
   "cell_type": "markdown",
   "metadata": {
    "id": "HdtAbdnXWQ4F"
   },
   "source": [
    "##Ask & Answer Questions\n",
    "1. Are there more accidents in warmer or colder areas.\n",
    "2. Which 5 states have the highest number of accidents? How about per capita?\n",
    "3. Does New York show up in the data? If yes , why is the count lower if it is the most populated city?\n",
    "4. Among the top 100 cities in number of accidents, which states do they belong to most frequently?\n",
    "5. What time of the day are accidents most frequent in?\n",
    "6. Which days of the week have the most accidents?\n",
    "7. Which months have the most accidents?\n",
    "8. What is the trend of accidents year over year?(decreasing/increasing?)\n",
    "9. When is accidents per unit of traffic the highest?\n"
   ]
  },
  {
   "cell_type": "code",
   "execution_count": null,
   "metadata": {
    "id": "RfzivJicGEXz"
   },
   "outputs": [],
   "source": []
  },
  {
   "cell_type": "markdown",
   "metadata": {
    "id": "BUKCHu6HWezO"
   },
   "source": [
    "## Summary & Conclusion\n",
    "Insights :\n",
    "- No data for New York\n",
    "- The number of accidents per city decreases exponentially.\n",
    "- Less than 5% of cities have more than 1000 yearly accidents.\n",
    "- Over 1200 cities have reported just 1 accident. (Need to investigate)"
   ]
  }
 ],
 "metadata": {
  "colab": {
   "provenance": []
  },
  "kernelspec": {
   "display_name": "Python 3",
   "language": "python",
   "name": "python3"
  },
  "language_info": {
   "codemirror_mode": {
    "name": "ipython",
    "version": 3
   },
   "file_extension": ".py",
   "mimetype": "text/x-python",
   "name": "python",
   "nbconvert_exporter": "python",
   "pygments_lexer": "ipython3",
   "version": "3.7.6"
  }
 },
 "nbformat": 4,
 "nbformat_minor": 0
}